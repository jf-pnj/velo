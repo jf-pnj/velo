{
 "cells": [
  {
   "cell_type": "markdown",
   "metadata": {},
   "source": [
    "# Solve Xporters traffic volume problem\n",
    "#### Organisers : Alexis de Russ&eacute;, Florian Bertelli, Gaspard Donada--Vidal, Ghassen Chaabane, Moez Ezzeddine, Ziheng Li\n",
    "\n",
    "This code was tested with Python 3.7 |Anaconda custom (64-bit)| (Oct 01 2019, 11:07:29) https://anaconda.org/\">https://anaconda.org/\n",
    "\n",
    "\n",
    "ALL INFORMATION, SOFTWARE, DOCUMENTATION, AND DATA ARE PROVIDED \"AS-IS\". The CDS, CHALEARN, AND/OR OTHER ORGANIZERS OR CODE AUTHORS DISCLAIM ANY EXPRESSED OR IMPLIED WARRANTIES, INCLUDING, BUT NOT LIMITED TO, THE IMPLIED WARRANTIES OF MERCHANTABILITY AND FITNESS FOR ANY PARTICULAR PURPOSE, AND THE WARRANTY OF NON-INFRIGEMENT OF ANY THIRD PARTY'S INTELLECTUAL PROPERTY RIGHTS. IN NO EVENT SHALL AUTHORS AND ORGANIZERS BE LIABLE FOR ANY SPECIAL, INDIRECT OR CONSEQUENTIAL DAMAGES OR ANY DAMAGES WHATSOEVER ARISING OUT OF OR IN CONNECTION WITH THE USE OR PERFORMANCE OF SOFTWARE, DOCUMENTS, MATERIALS, PUBLICATIONS, OR INFORMATION MADE AVAILABLE FOR THE CHALLENGE. "
   ]
  },
  {
   "cell_type": "markdown",
   "metadata": {},
   "source": [
    "## Introduction\n",
    "\n",
    "With globalization, our world tends to be more and more connected, so this implies more and more transport. There\n",
    " are various types of transports: transports of goods, energy, information, or people.This century will be marked by a revolution in the transport of people. With the development of autonomous cars, more and more data will be collected: speed, location, population,etc. The challenge is to get value from this. As the number of cars, and particularly autonomous cars tends to grow, we'll need to deal with an increasing traffic flow to avoid huge traffic jams. Indeed, some experts pretend that autonomous vehicles will be able to reduce travelling timeup to 30%, even if the world traffic increases of 10%.\n",
    "But how is it possible to reduce travelling time and traffic jams if the number of vehicles increases ? Thanks to prediction.\n",
    "\n",
    "In fact, prediction will be the key to determine the fastest way to get you from your home to your work, without getting in traffic jams. Predictions may also be used to determine which transportation infrastructures to\n",
    "build.\n",
    "\n",
    "Xporters challenge is a small standard multivariable regression data set from the http://archive.ics.uci.edu/ml/datasets/ UCI Machine Learning Repository, formatted in the AutoML format. It uses a data set concerning the traffic volume off an highway in the USA from 2012 to 2018, the date, and some informations about the weather. The aim of this challenge is to predict the traffic volume thanks to this features.\n"
   ]
  },
  {
   "cell_type": "code",
   "execution_count": 1,
   "metadata": {},
   "outputs": [],
   "source": [
    "from sys import path\n",
    "import matplotlib.pyplot as plt\n",
    "import seaborn as sns\n",
    "import warnings\n",
    "warnings.simplefilter(action='ignore', category=FutureWarning)\n"
   ]
  },
  {
   "cell_type": "code",
   "execution_count": 2,
   "metadata": {},
   "outputs": [],
   "source": [
    "model_dir = 'sample_code_submission/'                        # Change the model to a better one once you have one!\n",
    "#model_dir = '../FILES/pretty_good_sample_code_submission/'\n",
    "result_dir = 'sample_result_submission/' \n",
    "problem_dir = 'ingestion_program/'  \n",
    "score_dir = 'scoring_program/'\n",
    "path.append(model_dir); path.append(problem_dir); path.append(score_dir); \n",
    "%matplotlib inline\n",
    "# Uncomment the next lines to auto-reload libraries (this causes some problem with pickles in Python 3)\n",
    "%load_ext autoreload\n",
    "%autoreload 2\n",
    "sns.set()"
   ]
  },
  {
   "cell_type": "markdown",
   "metadata": {},
   "source": [
    "## Step 1: Exploratory data analysis\n",
    "\n",
    "We provide sample_data with the starting kit, but to prepare your submission, you must fetch the public_data from the challenge website and point to it."
   ]
  },
  {
   "cell_type": "code",
   "execution_count": 3,
   "metadata": {},
   "outputs": [
    {
     "name": "stdout",
     "output_type": "stream",
     "text": [
      "xporters_feat.name      xporters_test.data      xporters_valid.data\n",
      "xporters_private.info   xporters_train.data\n",
      "xporters_public.info    xporters_train.solution\n"
     ]
    }
   ],
   "source": [
    "from data_io import read_as_df\n",
    "#data_dir = 'sample_data'        # Change this to the directory where you put the input data\n",
    "data_dir = './input_data'          # The sample_data directory should contain only a very small subset of the data\n",
    "data_name = 'xporters'\n",
    "!ls $data_dir*"
   ]
  },
  {
   "cell_type": "markdown",
   "metadata": {},
   "source": [
    "For convenience, we load the data as a \"pandas\" data frame, so we can use \"pandas\" and \"seaborn\" built in functions to explore the data."
   ]
  },
  {
   "cell_type": "code",
   "execution_count": 4,
   "metadata": {},
   "outputs": [
    {
     "name": "stdout",
     "output_type": "stream",
     "text": [
      "Reading ./input_data/xporters_train from AutoML format\n",
      "Number of examples = 38563\n",
      "Number of features = 59\n"
     ]
    }
   ],
   "source": [
    "data = read_as_df(data_dir  + '/' + data_name)                # The data are loaded as a Pandas Data Frame"
   ]
  },
  {
   "cell_type": "code",
   "execution_count": 5,
   "metadata": {},
   "outputs": [
    {
     "data": {
      "text/html": [
       "<div>\n",
       "<style scoped>\n",
       "    .dataframe tbody tr th:only-of-type {\n",
       "        vertical-align: middle;\n",
       "    }\n",
       "\n",
       "    .dataframe tbody tr th {\n",
       "        vertical-align: top;\n",
       "    }\n",
       "\n",
       "    .dataframe thead th {\n",
       "        text-align: right;\n",
       "    }\n",
       "</style>\n",
       "<table border=\"1\" class=\"dataframe\">\n",
       "  <thead>\n",
       "    <tr style=\"text-align: right;\">\n",
       "      <th></th>\n",
       "      <th>holiday</th>\n",
       "      <th>temp</th>\n",
       "      <th>rain_1h</th>\n",
       "      <th>snow_1h</th>\n",
       "      <th>clouds_all</th>\n",
       "      <th>oil_prices</th>\n",
       "      <th>weekday</th>\n",
       "      <th>hour</th>\n",
       "      <th>month</th>\n",
       "      <th>year</th>\n",
       "      <th>...</th>\n",
       "      <th>weather_description_smoke</th>\n",
       "      <th>weather_description_snow</th>\n",
       "      <th>weather_description_thunderstorm</th>\n",
       "      <th>weather_description_thunderstorm_with_drizzle</th>\n",
       "      <th>weather_description_thunderstorm_with_heavy_rain</th>\n",
       "      <th>weather_description_thunderstorm_with_light_drizzle</th>\n",
       "      <th>weather_description_thunderstorm_with_light_rain</th>\n",
       "      <th>weather_description_thunderstorm_with_rain</th>\n",
       "      <th>weather_description_very_heavy_rain</th>\n",
       "      <th>target</th>\n",
       "    </tr>\n",
       "  </thead>\n",
       "  <tbody>\n",
       "    <tr>\n",
       "      <th>0</th>\n",
       "      <td>0</td>\n",
       "      <td>267.510</td>\n",
       "      <td>0.0</td>\n",
       "      <td>0.0</td>\n",
       "      <td>40</td>\n",
       "      <td>85.821965</td>\n",
       "      <td>6</td>\n",
       "      <td>1</td>\n",
       "      <td>12</td>\n",
       "      <td>2017</td>\n",
       "      <td>...</td>\n",
       "      <td>0</td>\n",
       "      <td>0</td>\n",
       "      <td>0</td>\n",
       "      <td>0</td>\n",
       "      <td>0</td>\n",
       "      <td>0</td>\n",
       "      <td>0</td>\n",
       "      <td>0</td>\n",
       "      <td>0</td>\n",
       "      <td>759.0</td>\n",
       "    </tr>\n",
       "    <tr>\n",
       "      <th>1</th>\n",
       "      <td>0</td>\n",
       "      <td>293.720</td>\n",
       "      <td>0.0</td>\n",
       "      <td>0.0</td>\n",
       "      <td>90</td>\n",
       "      <td>72.271517</td>\n",
       "      <td>5</td>\n",
       "      <td>11</td>\n",
       "      <td>6</td>\n",
       "      <td>2018</td>\n",
       "      <td>...</td>\n",
       "      <td>0</td>\n",
       "      <td>0</td>\n",
       "      <td>0</td>\n",
       "      <td>0</td>\n",
       "      <td>0</td>\n",
       "      <td>0</td>\n",
       "      <td>0</td>\n",
       "      <td>0</td>\n",
       "      <td>0</td>\n",
       "      <td>4085.0</td>\n",
       "    </tr>\n",
       "    <tr>\n",
       "      <th>2</th>\n",
       "      <td>0</td>\n",
       "      <td>302.180</td>\n",
       "      <td>0.0</td>\n",
       "      <td>0.0</td>\n",
       "      <td>0</td>\n",
       "      <td>65.922514</td>\n",
       "      <td>1</td>\n",
       "      <td>19</td>\n",
       "      <td>7</td>\n",
       "      <td>2013</td>\n",
       "      <td>...</td>\n",
       "      <td>0</td>\n",
       "      <td>0</td>\n",
       "      <td>0</td>\n",
       "      <td>0</td>\n",
       "      <td>0</td>\n",
       "      <td>0</td>\n",
       "      <td>0</td>\n",
       "      <td>0</td>\n",
       "      <td>0</td>\n",
       "      <td>3528.0</td>\n",
       "    </tr>\n",
       "    <tr>\n",
       "      <th>3</th>\n",
       "      <td>0</td>\n",
       "      <td>255.580</td>\n",
       "      <td>0.0</td>\n",
       "      <td>0.0</td>\n",
       "      <td>75</td>\n",
       "      <td>90.673493</td>\n",
       "      <td>1</td>\n",
       "      <td>5</td>\n",
       "      <td>2</td>\n",
       "      <td>2014</td>\n",
       "      <td>...</td>\n",
       "      <td>0</td>\n",
       "      <td>0</td>\n",
       "      <td>0</td>\n",
       "      <td>0</td>\n",
       "      <td>0</td>\n",
       "      <td>0</td>\n",
       "      <td>0</td>\n",
       "      <td>0</td>\n",
       "      <td>0</td>\n",
       "      <td>2636.0</td>\n",
       "    </tr>\n",
       "    <tr>\n",
       "      <th>4</th>\n",
       "      <td>0</td>\n",
       "      <td>286.381</td>\n",
       "      <td>0.0</td>\n",
       "      <td>0.0</td>\n",
       "      <td>0</td>\n",
       "      <td>97.325080</td>\n",
       "      <td>2</td>\n",
       "      <td>18</td>\n",
       "      <td>10</td>\n",
       "      <td>2016</td>\n",
       "      <td>...</td>\n",
       "      <td>0</td>\n",
       "      <td>0</td>\n",
       "      <td>0</td>\n",
       "      <td>0</td>\n",
       "      <td>0</td>\n",
       "      <td>0</td>\n",
       "      <td>0</td>\n",
       "      <td>0</td>\n",
       "      <td>0</td>\n",
       "      <td>4226.0</td>\n",
       "    </tr>\n",
       "  </tbody>\n",
       "</table>\n",
       "<p>5 rows × 60 columns</p>\n",
       "</div>"
      ],
      "text/plain": [
       "   holiday     temp  rain_1h  snow_1h  clouds_all  oil_prices  weekday  hour  \\\n",
       "0        0  267.510      0.0      0.0          40   85.821965        6     1   \n",
       "1        0  293.720      0.0      0.0          90   72.271517        5    11   \n",
       "2        0  302.180      0.0      0.0           0   65.922514        1    19   \n",
       "3        0  255.580      0.0      0.0          75   90.673493        1     5   \n",
       "4        0  286.381      0.0      0.0           0   97.325080        2    18   \n",
       "\n",
       "   month  year  ...  weather_description_smoke  weather_description_snow  \\\n",
       "0     12  2017  ...                          0                         0   \n",
       "1      6  2018  ...                          0                         0   \n",
       "2      7  2013  ...                          0                         0   \n",
       "3      2  2014  ...                          0                         0   \n",
       "4     10  2016  ...                          0                         0   \n",
       "\n",
       "   weather_description_thunderstorm  \\\n",
       "0                                 0   \n",
       "1                                 0   \n",
       "2                                 0   \n",
       "3                                 0   \n",
       "4                                 0   \n",
       "\n",
       "   weather_description_thunderstorm_with_drizzle  \\\n",
       "0                                              0   \n",
       "1                                              0   \n",
       "2                                              0   \n",
       "3                                              0   \n",
       "4                                              0   \n",
       "\n",
       "   weather_description_thunderstorm_with_heavy_rain  \\\n",
       "0                                                 0   \n",
       "1                                                 0   \n",
       "2                                                 0   \n",
       "3                                                 0   \n",
       "4                                                 0   \n",
       "\n",
       "   weather_description_thunderstorm_with_light_drizzle  \\\n",
       "0                                                  0     \n",
       "1                                                  0     \n",
       "2                                                  0     \n",
       "3                                                  0     \n",
       "4                                                  0     \n",
       "\n",
       "   weather_description_thunderstorm_with_light_rain  \\\n",
       "0                                                 0   \n",
       "1                                                 0   \n",
       "2                                                 0   \n",
       "3                                                 0   \n",
       "4                                                 0   \n",
       "\n",
       "   weather_description_thunderstorm_with_rain  \\\n",
       "0                                           0   \n",
       "1                                           0   \n",
       "2                                           0   \n",
       "3                                           0   \n",
       "4                                           0   \n",
       "\n",
       "   weather_description_very_heavy_rain  target  \n",
       "0                                    0   759.0  \n",
       "1                                    0  4085.0  \n",
       "2                                    0  3528.0  \n",
       "3                                    0  2636.0  \n",
       "4                                    0  4226.0  \n",
       "\n",
       "[5 rows x 60 columns]"
      ]
     },
     "execution_count": 5,
     "metadata": {},
     "output_type": "execute_result"
    }
   ],
   "source": [
    "data.head()"
   ]
  },
  {
   "cell_type": "code",
   "execution_count": 6,
   "metadata": {
    "scrolled": true
   },
   "outputs": [
    {
     "data": {
      "text/html": [
       "<div>\n",
       "<style scoped>\n",
       "    .dataframe tbody tr th:only-of-type {\n",
       "        vertical-align: middle;\n",
       "    }\n",
       "\n",
       "    .dataframe tbody tr th {\n",
       "        vertical-align: top;\n",
       "    }\n",
       "\n",
       "    .dataframe thead th {\n",
       "        text-align: right;\n",
       "    }\n",
       "</style>\n",
       "<table border=\"1\" class=\"dataframe\">\n",
       "  <thead>\n",
       "    <tr style=\"text-align: right;\">\n",
       "      <th></th>\n",
       "      <th>holiday</th>\n",
       "      <th>temp</th>\n",
       "      <th>rain_1h</th>\n",
       "      <th>snow_1h</th>\n",
       "      <th>clouds_all</th>\n",
       "      <th>oil_prices</th>\n",
       "      <th>weekday</th>\n",
       "      <th>hour</th>\n",
       "      <th>month</th>\n",
       "      <th>year</th>\n",
       "      <th>...</th>\n",
       "      <th>weather_description_smoke</th>\n",
       "      <th>weather_description_snow</th>\n",
       "      <th>weather_description_thunderstorm</th>\n",
       "      <th>weather_description_thunderstorm_with_drizzle</th>\n",
       "      <th>weather_description_thunderstorm_with_heavy_rain</th>\n",
       "      <th>weather_description_thunderstorm_with_light_drizzle</th>\n",
       "      <th>weather_description_thunderstorm_with_light_rain</th>\n",
       "      <th>weather_description_thunderstorm_with_rain</th>\n",
       "      <th>weather_description_very_heavy_rain</th>\n",
       "      <th>target</th>\n",
       "    </tr>\n",
       "  </thead>\n",
       "  <tbody>\n",
       "    <tr>\n",
       "      <th>count</th>\n",
       "      <td>38563.000000</td>\n",
       "      <td>38563.000000</td>\n",
       "      <td>38563.000000</td>\n",
       "      <td>38563.000000</td>\n",
       "      <td>38563.000000</td>\n",
       "      <td>38563.000000</td>\n",
       "      <td>38563.000000</td>\n",
       "      <td>38563.000000</td>\n",
       "      <td>38563.000000</td>\n",
       "      <td>38563.000000</td>\n",
       "      <td>...</td>\n",
       "      <td>38563.000000</td>\n",
       "      <td>38563.000000</td>\n",
       "      <td>38563.000000</td>\n",
       "      <td>38563.000000</td>\n",
       "      <td>38563.000000</td>\n",
       "      <td>38563.000000</td>\n",
       "      <td>38563.000000</td>\n",
       "      <td>38563.000000</td>\n",
       "      <td>38563.000000</td>\n",
       "      <td>38563.000000</td>\n",
       "    </tr>\n",
       "    <tr>\n",
       "      <th>mean</th>\n",
       "      <td>0.001245</td>\n",
       "      <td>281.197804</td>\n",
       "      <td>0.379081</td>\n",
       "      <td>0.000203</td>\n",
       "      <td>49.350284</td>\n",
       "      <td>80.079942</td>\n",
       "      <td>2.984311</td>\n",
       "      <td>11.408578</td>\n",
       "      <td>6.518009</td>\n",
       "      <td>2015.510645</td>\n",
       "      <td>...</td>\n",
       "      <td>0.000337</td>\n",
       "      <td>0.005990</td>\n",
       "      <td>0.002515</td>\n",
       "      <td>0.000052</td>\n",
       "      <td>0.001167</td>\n",
       "      <td>0.000363</td>\n",
       "      <td>0.001193</td>\n",
       "      <td>0.000856</td>\n",
       "      <td>0.000415</td>\n",
       "      <td>3258.740788</td>\n",
       "    </tr>\n",
       "    <tr>\n",
       "      <th>std</th>\n",
       "      <td>0.035259</td>\n",
       "      <td>13.239935</td>\n",
       "      <td>50.073028</td>\n",
       "      <td>0.007602</td>\n",
       "      <td>39.029958</td>\n",
       "      <td>9.992938</td>\n",
       "      <td>2.003339</td>\n",
       "      <td>6.947282</td>\n",
       "      <td>3.405988</td>\n",
       "      <td>1.892133</td>\n",
       "      <td>...</td>\n",
       "      <td>0.018358</td>\n",
       "      <td>0.077165</td>\n",
       "      <td>0.050091</td>\n",
       "      <td>0.007202</td>\n",
       "      <td>0.034141</td>\n",
       "      <td>0.019050</td>\n",
       "      <td>0.034518</td>\n",
       "      <td>0.029241</td>\n",
       "      <td>0.020365</td>\n",
       "      <td>1987.121630</td>\n",
       "    </tr>\n",
       "    <tr>\n",
       "      <th>min</th>\n",
       "      <td>0.000000</td>\n",
       "      <td>0.000000</td>\n",
       "      <td>0.000000</td>\n",
       "      <td>0.000000</td>\n",
       "      <td>0.000000</td>\n",
       "      <td>38.724760</td>\n",
       "      <td>0.000000</td>\n",
       "      <td>0.000000</td>\n",
       "      <td>1.000000</td>\n",
       "      <td>2012.000000</td>\n",
       "      <td>...</td>\n",
       "      <td>0.000000</td>\n",
       "      <td>0.000000</td>\n",
       "      <td>0.000000</td>\n",
       "      <td>0.000000</td>\n",
       "      <td>0.000000</td>\n",
       "      <td>0.000000</td>\n",
       "      <td>0.000000</td>\n",
       "      <td>0.000000</td>\n",
       "      <td>0.000000</td>\n",
       "      <td>0.000000</td>\n",
       "    </tr>\n",
       "    <tr>\n",
       "      <th>25%</th>\n",
       "      <td>0.000000</td>\n",
       "      <td>272.160000</td>\n",
       "      <td>0.000000</td>\n",
       "      <td>0.000000</td>\n",
       "      <td>1.000000</td>\n",
       "      <td>73.343967</td>\n",
       "      <td>1.000000</td>\n",
       "      <td>5.000000</td>\n",
       "      <td>4.000000</td>\n",
       "      <td>2014.000000</td>\n",
       "      <td>...</td>\n",
       "      <td>0.000000</td>\n",
       "      <td>0.000000</td>\n",
       "      <td>0.000000</td>\n",
       "      <td>0.000000</td>\n",
       "      <td>0.000000</td>\n",
       "      <td>0.000000</td>\n",
       "      <td>0.000000</td>\n",
       "      <td>0.000000</td>\n",
       "      <td>0.000000</td>\n",
       "      <td>1195.000000</td>\n",
       "    </tr>\n",
       "    <tr>\n",
       "      <th>50%</th>\n",
       "      <td>0.000000</td>\n",
       "      <td>282.341000</td>\n",
       "      <td>0.000000</td>\n",
       "      <td>0.000000</td>\n",
       "      <td>64.000000</td>\n",
       "      <td>80.134711</td>\n",
       "      <td>3.000000</td>\n",
       "      <td>11.000000</td>\n",
       "      <td>7.000000</td>\n",
       "      <td>2016.000000</td>\n",
       "      <td>...</td>\n",
       "      <td>0.000000</td>\n",
       "      <td>0.000000</td>\n",
       "      <td>0.000000</td>\n",
       "      <td>0.000000</td>\n",
       "      <td>0.000000</td>\n",
       "      <td>0.000000</td>\n",
       "      <td>0.000000</td>\n",
       "      <td>0.000000</td>\n",
       "      <td>0.000000</td>\n",
       "      <td>3377.000000</td>\n",
       "    </tr>\n",
       "    <tr>\n",
       "      <th>75%</th>\n",
       "      <td>0.000000</td>\n",
       "      <td>291.790000</td>\n",
       "      <td>0.000000</td>\n",
       "      <td>0.000000</td>\n",
       "      <td>90.000000</td>\n",
       "      <td>86.771668</td>\n",
       "      <td>5.000000</td>\n",
       "      <td>17.000000</td>\n",
       "      <td>9.000000</td>\n",
       "      <td>2017.000000</td>\n",
       "      <td>...</td>\n",
       "      <td>0.000000</td>\n",
       "      <td>0.000000</td>\n",
       "      <td>0.000000</td>\n",
       "      <td>0.000000</td>\n",
       "      <td>0.000000</td>\n",
       "      <td>0.000000</td>\n",
       "      <td>0.000000</td>\n",
       "      <td>0.000000</td>\n",
       "      <td>0.000000</td>\n",
       "      <td>4933.000000</td>\n",
       "    </tr>\n",
       "    <tr>\n",
       "      <th>max</th>\n",
       "      <td>1.000000</td>\n",
       "      <td>310.070000</td>\n",
       "      <td>9831.300000</td>\n",
       "      <td>0.510000</td>\n",
       "      <td>100.000000</td>\n",
       "      <td>128.465356</td>\n",
       "      <td>6.000000</td>\n",
       "      <td>23.000000</td>\n",
       "      <td>12.000000</td>\n",
       "      <td>2018.000000</td>\n",
       "      <td>...</td>\n",
       "      <td>1.000000</td>\n",
       "      <td>1.000000</td>\n",
       "      <td>1.000000</td>\n",
       "      <td>1.000000</td>\n",
       "      <td>1.000000</td>\n",
       "      <td>1.000000</td>\n",
       "      <td>1.000000</td>\n",
       "      <td>1.000000</td>\n",
       "      <td>1.000000</td>\n",
       "      <td>7260.000000</td>\n",
       "    </tr>\n",
       "  </tbody>\n",
       "</table>\n",
       "<p>8 rows × 60 columns</p>\n",
       "</div>"
      ],
      "text/plain": [
       "            holiday          temp       rain_1h       snow_1h    clouds_all  \\\n",
       "count  38563.000000  38563.000000  38563.000000  38563.000000  38563.000000   \n",
       "mean       0.001245    281.197804      0.379081      0.000203     49.350284   \n",
       "std        0.035259     13.239935     50.073028      0.007602     39.029958   \n",
       "min        0.000000      0.000000      0.000000      0.000000      0.000000   \n",
       "25%        0.000000    272.160000      0.000000      0.000000      1.000000   \n",
       "50%        0.000000    282.341000      0.000000      0.000000     64.000000   \n",
       "75%        0.000000    291.790000      0.000000      0.000000     90.000000   \n",
       "max        1.000000    310.070000   9831.300000      0.510000    100.000000   \n",
       "\n",
       "         oil_prices       weekday          hour         month          year  \\\n",
       "count  38563.000000  38563.000000  38563.000000  38563.000000  38563.000000   \n",
       "mean      80.079942      2.984311     11.408578      6.518009   2015.510645   \n",
       "std        9.992938      2.003339      6.947282      3.405988      1.892133   \n",
       "min       38.724760      0.000000      0.000000      1.000000   2012.000000   \n",
       "25%       73.343967      1.000000      5.000000      4.000000   2014.000000   \n",
       "50%       80.134711      3.000000     11.000000      7.000000   2016.000000   \n",
       "75%       86.771668      5.000000     17.000000      9.000000   2017.000000   \n",
       "max      128.465356      6.000000     23.000000     12.000000   2018.000000   \n",
       "\n",
       "       ...  weather_description_smoke  weather_description_snow  \\\n",
       "count  ...               38563.000000              38563.000000   \n",
       "mean   ...                   0.000337                  0.005990   \n",
       "std    ...                   0.018358                  0.077165   \n",
       "min    ...                   0.000000                  0.000000   \n",
       "25%    ...                   0.000000                  0.000000   \n",
       "50%    ...                   0.000000                  0.000000   \n",
       "75%    ...                   0.000000                  0.000000   \n",
       "max    ...                   1.000000                  1.000000   \n",
       "\n",
       "       weather_description_thunderstorm  \\\n",
       "count                      38563.000000   \n",
       "mean                           0.002515   \n",
       "std                            0.050091   \n",
       "min                            0.000000   \n",
       "25%                            0.000000   \n",
       "50%                            0.000000   \n",
       "75%                            0.000000   \n",
       "max                            1.000000   \n",
       "\n",
       "       weather_description_thunderstorm_with_drizzle  \\\n",
       "count                                   38563.000000   \n",
       "mean                                        0.000052   \n",
       "std                                         0.007202   \n",
       "min                                         0.000000   \n",
       "25%                                         0.000000   \n",
       "50%                                         0.000000   \n",
       "75%                                         0.000000   \n",
       "max                                         1.000000   \n",
       "\n",
       "       weather_description_thunderstorm_with_heavy_rain  \\\n",
       "count                                      38563.000000   \n",
       "mean                                           0.001167   \n",
       "std                                            0.034141   \n",
       "min                                            0.000000   \n",
       "25%                                            0.000000   \n",
       "50%                                            0.000000   \n",
       "75%                                            0.000000   \n",
       "max                                            1.000000   \n",
       "\n",
       "       weather_description_thunderstorm_with_light_drizzle  \\\n",
       "count                                       38563.000000     \n",
       "mean                                            0.000363     \n",
       "std                                             0.019050     \n",
       "min                                             0.000000     \n",
       "25%                                             0.000000     \n",
       "50%                                             0.000000     \n",
       "75%                                             0.000000     \n",
       "max                                             1.000000     \n",
       "\n",
       "       weather_description_thunderstorm_with_light_rain  \\\n",
       "count                                      38563.000000   \n",
       "mean                                           0.001193   \n",
       "std                                            0.034518   \n",
       "min                                            0.000000   \n",
       "25%                                            0.000000   \n",
       "50%                                            0.000000   \n",
       "75%                                            0.000000   \n",
       "max                                            1.000000   \n",
       "\n",
       "       weather_description_thunderstorm_with_rain  \\\n",
       "count                                38563.000000   \n",
       "mean                                     0.000856   \n",
       "std                                      0.029241   \n",
       "min                                      0.000000   \n",
       "25%                                      0.000000   \n",
       "50%                                      0.000000   \n",
       "75%                                      0.000000   \n",
       "max                                      1.000000   \n",
       "\n",
       "       weather_description_very_heavy_rain        target  \n",
       "count                         38563.000000  38563.000000  \n",
       "mean                              0.000415   3258.740788  \n",
       "std                               0.020365   1987.121630  \n",
       "min                               0.000000      0.000000  \n",
       "25%                               0.000000   1195.000000  \n",
       "50%                               0.000000   3377.000000  \n",
       "75%                               0.000000   4933.000000  \n",
       "max                               1.000000   7260.000000  \n",
       "\n",
       "[8 rows x 60 columns]"
      ]
     },
     "execution_count": 6,
     "metadata": {},
     "output_type": "execute_result"
    }
   ],
   "source": [
    "data.describe() "
   ]
  },
  {
   "cell_type": "code",
   "execution_count": null,
   "metadata": {},
   "outputs": [],
   "source": [
    "plt.figure(figsize = (5,5))\n",
    "sns.distplot(data['target'], bins=50)\n",
    "plt.title('The distribution of the traffic volume')\n",
    "plt.show()"
   ]
  },
  {
   "cell_type": "code",
   "execution_count": null,
   "metadata": {},
   "outputs": [],
   "source": [
    "fig = plt.figure(figsize=(20,20))\n",
    "fig.subplots_adjust(hspace = 0.5)\n",
    "\n",
    "plt.subplot(313)\n",
    "sns.boxplot('hour','target', data= data)\n",
    "plt.title('Boxplot of the traffic volume according to hour')\n",
    "\n",
    "plt.subplot(321)\n",
    "sns.boxplot('weekday','target', data= data)\n",
    "plt.title('Boxplot of the traffic volume according to the day')\n",
    "plt.subplot(322)\n",
    "sns.lineplot('weekday','target', data= data)\n",
    "plt.title(\"The distribution of the traffic volume according the day\")\n",
    "\n",
    "plt.subplot(323)\n",
    "sns.boxplot('year','target', data= data)\n",
    "plt.title('Boxplot of the traffic volume according to the year')\n",
    "plt.subplot(324)\n",
    "sns.lineplot('year','target', data= data)\n",
    "plt.title(\"The distribution of the traffic volume according years\")\n",
    "plt.show()"
   ]
  },
  {
   "cell_type": "code",
   "execution_count": null,
   "metadata": {},
   "outputs": [],
   "source": [
    "f = plt.figure(figsize=(19, 15))\n",
    "plt.matshow(data.corr(), fignum=f.number)\n",
    "plt.xticks(range(data.shape[1]), data.columns, fontsize=14, rotation=45)\n",
    "plt.yticks(range(data.shape[1]), data.columns, fontsize=14)\n",
    "cb = plt.colorbar()\n",
    "cb.ax.tick_params(labelsize=14)\n",
    "plt.title('Correlation Matrix', fontsize=16);"
   ]
  },
  {
   "cell_type": "code",
   "execution_count": null,
   "metadata": {},
   "outputs": [],
   "source": [
    "print('Most important features according to the correlation with target')\n",
    "most_important_features = data.corr()['target'].sort_values(ascending=False)[:10]\n",
    "print (data.corr()['target'].sort_values(ascending=False)[:10], '\\n')"
   ]
  },
  {
   "cell_type": "code",
   "execution_count": null,
   "metadata": {},
   "outputs": [],
   "source": [
    "a = list(most_important_features.index)\n",
    "sns.pairplot(data,height= 5, x_vars = a , y_vars = 'target')\n",
    "plt.show()"
   ]
  },
  {
   "cell_type": "markdown",
   "metadata": {},
   "source": [
    "Step 2: Building a predictive model\n"
   ]
  },
  {
   "cell_type": "markdown",
   "metadata": {},
   "source": [
    "## Loading data with DataManager\n",
    "\n",
    "We reload the data with the AutoML DataManager class because this is more convenient:\n",
    "\n",
    "Keep this, it illustrates how data in AutoML formal are loaded by the ingestion program"
   ]
  },
  {
   "cell_type": "code",
   "execution_count": 7,
   "metadata": {},
   "outputs": [
    {
     "name": "stdout",
     "output_type": "stream",
     "text": [
      "Info file found : /Users/tianyangsun/Desktop/velo/starting_kit/input_data/xporters_public.info\n",
      "DataManager : xporters\n",
      "info:\n",
      "\tusage = Sample dataset Traffic Volume data\n",
      "\tname = traffic\n",
      "\ttask = regression\n",
      "\ttarget_type = Numerical\n",
      "\tfeat_type = Numerical\n",
      "\tmetric = r2_metric\n",
      "\ttime_budget = 1200\n",
      "\tfeat_num = 59\n",
      "\ttarget_num = 3\n",
      "\tlabel_num = 3\n",
      "\ttrain_num = 35\n",
      "\tvalid_num = 35\n",
      "\ttest_num = 35\n",
      "\thas_categorical = 0\n",
      "\thas_missing = 0\n",
      "\tis_sparse = 0\n",
      "\tformat = dense\n",
      "data:\n",
      "\tX_train = array(38563, 59)\n",
      "\tY_train = array(38563,)\n",
      "\tX_valid = array(4820, 59)\n",
      "\tY_valid = array(0,)\n",
      "\tX_test = array(4820, 59)\n",
      "\tY_test = array(0,)\n",
      "feat_type:\tarray(59,)\n",
      "feat_idx:\tarray(0,)\n",
      "\n"
     ]
    }
   ],
   "source": [
    "from data_manager import DataManager\n",
    "D = DataManager(data_name, data_dir, replace_missing=True)\n",
    "print(D)"
   ]
  },
  {
   "cell_type": "code",
   "execution_count": 8,
   "metadata": {},
   "outputs": [
    {
     "name": "stdout",
     "output_type": "stream",
     "text": [
      "(38563, 59) (38563, 1)\n"
     ]
    }
   ],
   "source": [
    "# pca preprocessing with 0.98 components\n",
    "X = D.data['X_train']\n",
    "Y = D.data['Y_train'].reshape(38563, 1)\n",
    "\n",
    "print(X.shape, Y.shape)\n",
    "# reserve\n",
    "# X_val = D.data['X_valid']\n",
    "# Y_val = D.data['Y_valid']\n",
    "\n",
    "# X_test = D.data['X_test']\n",
    "# Y_test = D.data['Y_test']"
   ]
  },
  {
   "cell_type": "code",
   "execution_count": null,
   "metadata": {},
   "outputs": [],
   "source": [
    "# from sklearn.preprocessing import MinMaxScaler\n",
    "# scaler = MinMaxScaler()\n",
    "# X_standarized = scaler.fit_transform(X)\n",
    "# print(X_standarized.shape)"
   ]
  },
  {
   "cell_type": "code",
   "execution_count": 9,
   "metadata": {},
   "outputs": [
    {
     "name": "stdout",
     "output_type": "stream",
     "text": [
      "(30851, 59) (30851, 1)\n",
      "(7712, 59) (7712, 1)\n"
     ]
    }
   ],
   "source": [
    "X_train_val = X[0:30851]\n",
    "Y_train_val = Y[0:30851]\n",
    "\n",
    "X_test = X[30851:]\n",
    "Y_test = Y[30851:]\n",
    "\n",
    "print(X_train_val.shape, Y_train_val.shape)\n",
    "print(X_test.shape, Y_test.shape)"
   ]
  },
  {
   "cell_type": "code",
   "execution_count": 62,
   "metadata": {},
   "outputs": [],
   "source": [
    "# train validation split\n",
    "from sklearn.model_selection import train_test_split\n",
    "from sklearn.preprocessing import MinMaxScaler\n",
    "X_train, X_val, Y_train, Y_val = train_test_split(X_train_val, Y_train_val, test_size=0.2)"
   ]
  },
  {
   "cell_type": "code",
   "execution_count": 63,
   "metadata": {},
   "outputs": [
    {
     "name": "stdout",
     "output_type": "stream",
     "text": [
      "(24680, 59) (24680, 1)\n",
      "(6171, 59) (6171, 1)\n"
     ]
    }
   ],
   "source": [
    "print(X_train.shape, Y_train.shape)\n",
    "print(X_val.shape, Y_val.shape)"
   ]
  },
  {
   "cell_type": "code",
   "execution_count": 64,
   "metadata": {},
   "outputs": [
    {
     "name": "stdout",
     "output_type": "stream",
     "text": [
      "fitting train set\n",
      "transforming train set\n",
      "transforming test set\n",
      "training set data before PCA\n",
      "(24680, 59)\n",
      "training set data after PCA\n",
      "(24680, 7)\n",
      "training set label before PCA\n",
      "(24680, 1)\n",
      "\n",
      "valiation transformed\n",
      "(6171, 7)\n",
      "validation label\n",
      "(6171, 1)\n",
      "testing transformed\n",
      "(7712, 7)\n"
     ]
    }
   ],
   "source": [
    "from sklearn.decomposition import PCA\n",
    "rnd_seed = 42\n",
    "PCA_n_components = 0.999\n",
    "pca = PCA(n_components = PCA_n_components)\n",
    "\n",
    "print(\"fitting train set\")\n",
    "pca.fit(X_train)\n",
    "\n",
    "print(\"transforming train set\")\n",
    "X_train_transformed = pca.transform(X_train)\n",
    "\n",
    "print(\"transforming test set\")\n",
    "X_val_transformed = pca.transform(X_val)\n",
    "\n",
    "# for testing !!\n",
    "X_test_transformed = pca.transform(X_test)\n",
    "\n",
    "print(\"training set data before PCA\")\n",
    "print(X_train.shape)\n",
    "print(\"training set data after PCA\")\n",
    "print(X_train_transformed.shape)\n",
    "print(\"training set label before PCA\")\n",
    "print(Y_train.shape)\n",
    "print()\n",
    "print(\"valiation transformed\")\n",
    "print(X_val_transformed.shape)\n",
    "print(\"validation label\")\n",
    "print(Y_val.shape)\n",
    "\n",
    "print(\"testing transformed\")\n",
    "print(X_test_transformed.shape)\n",
    "\n",
    "\n"
   ]
  },
  {
   "cell_type": "code",
   "execution_count": 65,
   "metadata": {},
   "outputs": [],
   "source": [
    "from sklearn import linear_model\n",
    "from sklearn.linear_model import Ridge\n",
    "from sklearn.metrics import mean_squared_error, r2_score\n",
    "from sklearn.model_selection import train_test_split\n",
    "from sklearn.model_selection import cross_val_predict\n",
    "from sklearn.ensemble import RandomForestRegressor\n",
    "from sklearn.utils import shuffle\n",
    "from sklearn.ensemble import AdaBoostRegressor\n",
    "from sklearn.tree import DecisionTreeRegressor\n",
    "from sklearn.svm import SVR\n",
    "from sklearn.preprocessing import PolynomialFeatures\n",
    "from sklearn.linear_model import BayesianRidge, LinearRegression\n",
    "from sklearn.metrics import mean_absolute_error, r2_score, precision_score, recall_score\n",
    "from sklearn import neighbors\n",
    "from sklearn import linear_model\n",
    "from sklearn import ensemble\n",
    "import numpy as np"
   ]
  },
  {
   "cell_type": "code",
   "execution_count": 66,
   "metadata": {},
   "outputs": [
    {
     "name": "stdout",
     "output_type": "stream",
     "text": [
      "====== KNN regression neighbour 3 ======\n",
      "mean absolute error: 673.2034786366337\n",
      "r2 score: 0.7530240916311287\n",
      "====== KNN regression neighbour 5 ======\n",
      "mean absolute error: 674.5374817695673\n",
      "r2 score: 0.7660047607364104\n",
      "====== KNN regression neighbour 7 ======\n",
      "mean absolute error: 686.2832604116027\n",
      "r2 score: 0.7643032835152345\n",
      "====== KNN regression neighbour 9 ======\n",
      "mean absolute error: 700.2368425790886\n",
      "r2 score: 0.7597698669351115\n",
      "====== KNN regression neighbour 11 ======\n",
      "mean absolute error: 716.0049203753628\n",
      "r2 score: 0.7552132028905203\n",
      "====== KNN regression neighbour 13 ======\n",
      "mean absolute error: 727.5401443476309\n",
      "r2 score: 0.7499874468639498\n",
      "====== KNN regression neighbour 15 ======\n",
      "mean absolute error: 739.2255388105657\n",
      "r2 score: 0.7431611621251587\n",
      "====== KNN regression neighbour 17 ======\n",
      "mean absolute error: 752.4884707407513\n",
      "r2 score: 0.7364101246279098\n"
     ]
    },
    {
     "data": {
      "image/png": "[encoded data removed]",
      "text/plain": [
       "<Figure size 432x288 with 1 Axes>"
      ]
     },
     "metadata": {},
     "output_type": "display_data"
    }
   ],
   "source": [
    "# KNN regression with hyperparameter search\n",
    "### result k = 5\n",
    "hyper_list = [3, 5, 7, 9, 11, 13, 15, 17]\n",
    "r2_list = np.zeros((len(hyper_list), 1))\n",
    "mae_list = np.zeros((len(hyper_list), 1))\n",
    "for i, h in enumerate(hyper_list):\n",
    "    model = neighbors.KNeighborsRegressor(n_neighbors = h)\n",
    "    reg = model.fit(X_train_transformed, Y_train)\n",
    "    pred = reg.predict(X_val_transformed)\n",
    "     \n",
    "    \n",
    "    target = Y_val.reshape(Y_val.shape[0],)\n",
    "\n",
    "    print(\"====== KNN regression neighbour\", h, \"======\")\n",
    "    mae = mean_absolute_error(target, pred)\n",
    "    r2 = r2_score(target, pred)\n",
    "    mae_list[i] = mae\n",
    "    r2_list[i] = r2\n",
    "    print('mean absolute error: {0}'.format(mae))\n",
    "    print('r2 score: {0}'.format(r2))\n",
    "\n",
    "#     fig, ax = plt.subplots()\n",
    "#     ax.scatter(target, pred, marker='.')\n",
    "#     ax.plot([Y_val.min(), Y_val.max()], [Y_val.min(), Y_val.max()], 'k--', lw=2)\n",
    "#     ax.set_xlabel('Real')\n",
    "#     ax.set_ylabel('Predicted')\n",
    "#     plt.title(\"{0} prediction result\".format(model))\n",
    "#     plt.show()\n",
    "\n",
    "plt.plot(hyper_list, r2_list)\n",
    "plt.xlabel(\"K\")\n",
    "plt.ylabel(\"error\")\n",
    "plt.show()"
   ]
  },
  {
   "cell_type": "code",
   "execution_count": 67,
   "metadata": {},
   "outputs": [
    {
     "name": "stderr",
     "output_type": "stream",
     "text": [
      "/Library/Frameworks/Python.framework/Versions/3.7/lib/python3.7/site-packages/sklearn/utils/validation.py:761: DataConversionWarning: A column-vector y was passed when a 1d array was expected. Please change the shape of y to (n_samples, ), for example using ravel().\n",
      "  y = column_or_1d(y, warn=True)\n"
     ]
    },
    {
     "name": "stdout",
     "output_type": "stream",
     "text": [
      "====== Random forest regressor depth:  1 ======\n",
      "mean absolute error: 1196.0270332263508\n",
      "r2 score: 0.4462449814760485\n"
     ]
    },
    {
     "name": "stderr",
     "output_type": "stream",
     "text": [
      "/Library/Frameworks/Python.framework/Versions/3.7/lib/python3.7/site-packages/sklearn/utils/validation.py:761: DataConversionWarning: A column-vector y was passed when a 1d array was expected. Please change the shape of y to (n_samples, ), for example using ravel().\n",
      "  y = column_or_1d(y, warn=True)\n"
     ]
    },
    {
     "name": "stdout",
     "output_type": "stream",
     "text": [
      "====== Random forest regressor depth:  2 ======\n",
      "mean absolute error: 1032.1924752074913\n",
      "r2 score: 0.5873139868199604\n"
     ]
    },
    {
     "name": "stderr",
     "output_type": "stream",
     "text": [
      "/Library/Frameworks/Python.framework/Versions/3.7/lib/python3.7/site-packages/sklearn/utils/validation.py:761: DataConversionWarning: A column-vector y was passed when a 1d array was expected. Please change the shape of y to (n_samples, ), for example using ravel().\n",
      "  y = column_or_1d(y, warn=True)\n"
     ]
    },
    {
     "name": "stdout",
     "output_type": "stream",
     "text": [
      "====== Random forest regressor depth:  3 ======\n",
      "mean absolute error: 845.614360200636\n",
      "r2 score: 0.7263311563975976\n"
     ]
    },
    {
     "name": "stderr",
     "output_type": "stream",
     "text": [
      "/Library/Frameworks/Python.framework/Versions/3.7/lib/python3.7/site-packages/sklearn/utils/validation.py:761: DataConversionWarning: A column-vector y was passed when a 1d array was expected. Please change the shape of y to (n_samples, ), for example using ravel().\n",
      "  y = column_or_1d(y, warn=True)\n"
     ]
    },
    {
     "name": "stdout",
     "output_type": "stream",
     "text": [
      "====== Random forest regressor depth:  4 ======\n",
      "mean absolute error: 783.3030365052363\n",
      "r2 score: 0.7619591335041481\n"
     ]
    },
    {
     "name": "stderr",
     "output_type": "stream",
     "text": [
      "/Library/Frameworks/Python.framework/Versions/3.7/lib/python3.7/site-packages/sklearn/utils/validation.py:761: DataConversionWarning: A column-vector y was passed when a 1d array was expected. Please change the shape of y to (n_samples, ), for example using ravel().\n",
      "  y = column_or_1d(y, warn=True)\n"
     ]
    },
    {
     "name": "stdout",
     "output_type": "stream",
     "text": [
      "====== Random forest regressor depth:  5 ======\n",
      "mean absolute error: 869.1628389284991\n",
      "r2 score: 0.7190575474479666\n"
     ]
    },
    {
     "data": {
      "image/png": "[encoded data removed]",
      "text/plain": [
       "<Figure size 432x288 with 1 Axes>"
      ]
     },
     "metadata": {},
     "output_type": "display_data"
    }
   ],
   "source": [
    "# Random forest regression with hyperparameter search (tree depth) # n_estimator search performed\n",
    "##### result depth should = 4\n",
    "hyper_list = [1, 2, 3, 4, 5]\n",
    "# n_estimator = [100, 200, 300, 400]\n",
    "r2_list = np.zeros((len(hyper_list), 1))\n",
    "mae_list = np.zeros((len(hyper_list), 1))\n",
    "for i, h in enumerate(hyper_list):\n",
    "    model = AdaBoostRegressor(DecisionTreeRegressor(max_depth=h), n_estimators=200)\n",
    "    reg = model.fit(X_train_transformed, Y_train)\n",
    "    pred = reg.predict(X_val_transformed)\n",
    "\n",
    "    target = Y_val.reshape(Y_val.shape[0], 1)\n",
    "    print(\"====== Random forest regressor depth: \", h, \"======\")\n",
    "    mae = mean_absolute_error(target, pred)\n",
    "    r2 = r2_score(target, pred)\n",
    "    mae_list[i] = mae\n",
    "    r2_list[i] = r2\n",
    "    print('mean absolute error: {0}'.format(mae))\n",
    "    print('r2 score: {0}'.format(r2))\n",
    "\n",
    "#     fig, ax = plt.subplots()\n",
    "#     ax.scatter(target, pred, marker='.')\n",
    "#     ax.plot([Y_val.min(), Y_val.max()], [Y_val.min(), Y_val.max()], 'k--', lw=2)\n",
    "#     ax.set_xlabel('Real')\n",
    "#     ax.set_ylabel('Predicted')\n",
    "#     plt.title(\"{0} prediction result\".format(model))\n",
    "#     plt.show()\n",
    "\n",
    "plt.plot(hyper_list, r2_list)\n",
    "plt.xlabel(\"depth\")\n",
    "plt.ylabel(\"error\")\n",
    "plt.show()"
   ]
  },
  {
   "cell_type": "code",
   "execution_count": 70,
   "metadata": {},
   "outputs": [
    {
     "name": "stderr",
     "output_type": "stream",
     "text": [
      "/Library/Frameworks/Python.framework/Versions/3.7/lib/python3.7/site-packages/sklearn/utils/validation.py:761: DataConversionWarning: A column-vector y was passed when a 1d array was expected. Please change the shape of y to (n_samples, ), for example using ravel().\n",
      "  y = column_or_1d(y, warn=True)\n"
     ]
    },
    {
     "name": "stdout",
     "output_type": "stream",
     "text": [
      "====== gradient based regression, lr =  0.01 ======\n",
      "mean absolute error: 988.418938184387\n",
      "r2 score: 0.641640588179133\n"
     ]
    },
    {
     "name": "stderr",
     "output_type": "stream",
     "text": [
      "/Library/Frameworks/Python.framework/Versions/3.7/lib/python3.7/site-packages/sklearn/utils/validation.py:761: DataConversionWarning: A column-vector y was passed when a 1d array was expected. Please change the shape of y to (n_samples, ), for example using ravel().\n",
      "  y = column_or_1d(y, warn=True)\n"
     ]
    },
    {
     "name": "stdout",
     "output_type": "stream",
     "text": [
      "====== gradient based regression, lr =  0.05 ======\n",
      "mean absolute error: 588.6827563814844\n",
      "r2 score: 0.8377854305205885\n"
     ]
    },
    {
     "name": "stderr",
     "output_type": "stream",
     "text": [
      "/Library/Frameworks/Python.framework/Versions/3.7/lib/python3.7/site-packages/sklearn/utils/validation.py:761: DataConversionWarning: A column-vector y was passed when a 1d array was expected. Please change the shape of y to (n_samples, ), for example using ravel().\n",
      "  y = column_or_1d(y, warn=True)\n"
     ]
    },
    {
     "name": "stdout",
     "output_type": "stream",
     "text": [
      "====== gradient based regression, lr =  0.07 ======\n",
      "mean absolute error: 560.3206651561673\n",
      "r2 score: 0.8503071234139072\n"
     ]
    },
    {
     "name": "stderr",
     "output_type": "stream",
     "text": [
      "/Library/Frameworks/Python.framework/Versions/3.7/lib/python3.7/site-packages/sklearn/utils/validation.py:761: DataConversionWarning: A column-vector y was passed when a 1d array was expected. Please change the shape of y to (n_samples, ), for example using ravel().\n",
      "  y = column_or_1d(y, warn=True)\n"
     ]
    },
    {
     "name": "stdout",
     "output_type": "stream",
     "text": [
      "====== gradient based regression, lr =  0.1 ======\n",
      "mean absolute error: 541.3160033244313\n",
      "r2 score: 0.8600306633117187\n"
     ]
    },
    {
     "name": "stderr",
     "output_type": "stream",
     "text": [
      "/Library/Frameworks/Python.framework/Versions/3.7/lib/python3.7/site-packages/sklearn/utils/validation.py:761: DataConversionWarning: A column-vector y was passed when a 1d array was expected. Please change the shape of y to (n_samples, ), for example using ravel().\n",
      "  y = column_or_1d(y, warn=True)\n"
     ]
    },
    {
     "name": "stdout",
     "output_type": "stream",
     "text": [
      "====== gradient based regression, lr =  0.3 ======\n",
      "mean absolute error: 463.74435169586866\n",
      "r2 score: 0.8894144960874942\n"
     ]
    },
    {
     "name": "stderr",
     "output_type": "stream",
     "text": [
      "/Library/Frameworks/Python.framework/Versions/3.7/lib/python3.7/site-packages/sklearn/utils/validation.py:761: DataConversionWarning: A column-vector y was passed when a 1d array was expected. Please change the shape of y to (n_samples, ), for example using ravel().\n",
      "  y = column_or_1d(y, warn=True)\n"
     ]
    },
    {
     "name": "stdout",
     "output_type": "stream",
     "text": [
      "====== gradient based regression, lr =  0.4 ======\n",
      "mean absolute error: 439.9073179288602\n",
      "r2 score: 0.8989944595123645\n"
     ]
    },
    {
     "name": "stderr",
     "output_type": "stream",
     "text": [
      "/Library/Frameworks/Python.framework/Versions/3.7/lib/python3.7/site-packages/sklearn/utils/validation.py:761: DataConversionWarning: A column-vector y was passed when a 1d array was expected. Please change the shape of y to (n_samples, ), for example using ravel().\n",
      "  y = column_or_1d(y, warn=True)\n"
     ]
    },
    {
     "name": "stdout",
     "output_type": "stream",
     "text": [
      "====== gradient based regression, lr =  0.6 ======\n",
      "mean absolute error: 437.8793587438221\n",
      "r2 score: 0.898822644789192\n"
     ]
    },
    {
     "name": "stderr",
     "output_type": "stream",
     "text": [
      "/Library/Frameworks/Python.framework/Versions/3.7/lib/python3.7/site-packages/sklearn/utils/validation.py:761: DataConversionWarning: A column-vector y was passed when a 1d array was expected. Please change the shape of y to (n_samples, ), for example using ravel().\n",
      "  y = column_or_1d(y, warn=True)\n"
     ]
    },
    {
     "name": "stdout",
     "output_type": "stream",
     "text": [
      "====== gradient based regression, lr =  0.8 ======\n",
      "mean absolute error: 442.9479473727592\n",
      "r2 score: 0.8967538887194609\n"
     ]
    },
    {
     "name": "stderr",
     "output_type": "stream",
     "text": [
      "/Library/Frameworks/Python.framework/Versions/3.7/lib/python3.7/site-packages/sklearn/utils/validation.py:761: DataConversionWarning: A column-vector y was passed when a 1d array was expected. Please change the shape of y to (n_samples, ), for example using ravel().\n",
      "  y = column_or_1d(y, warn=True)\n"
     ]
    },
    {
     "name": "stdout",
     "output_type": "stream",
     "text": [
      "====== gradient based regression, lr =  1.0 ======\n",
      "mean absolute error: 461.5685518240955\n",
      "r2 score: 0.888998251656309\n"
     ]
    },
    {
     "name": "stderr",
     "output_type": "stream",
     "text": [
      "/Library/Frameworks/Python.framework/Versions/3.7/lib/python3.7/site-packages/sklearn/utils/validation.py:761: DataConversionWarning: A column-vector y was passed when a 1d array was expected. Please change the shape of y to (n_samples, ), for example using ravel().\n",
      "  y = column_or_1d(y, warn=True)\n"
     ]
    },
    {
     "name": "stdout",
     "output_type": "stream",
     "text": [
      "====== gradient based regression, lr =  1.2 ======\n",
      "mean absolute error: 486.31263750236286\n",
      "r2 score: 0.8761052944366895\n"
     ]
    },
    {
     "data": {
      "image/png": "[encoded data removed]",
      "text/plain": [
       "<Figure size 432x288 with 1 Axes>"
      ]
     },
     "metadata": {},
     "output_type": "display_data"
    }
   ],
   "source": [
    "hyper_list = [0.01, 0.05, 0.07, 0.1, 0.3, 0.4, 0.6, 0.8, 1.0, 1.2]\n",
    "## lr shour = 0.6\n",
    "r2_list = np.zeros((len(hyper_list), 1))\n",
    "mae_list = np.zeros((len(hyper_list), 1))\n",
    "for i, h in enumerate(hyper_list):\n",
    "    model = ensemble.GradientBoostingRegressor(learning_rate = h)\n",
    "    reg = model.fit(X_train_transformed, Y_train)\n",
    "    pred = reg.predict(X_val_transformed)\n",
    "\n",
    "    target = Y_val.reshape(Y_val.shape[0], 1)\n",
    "    print(\"====== gradient based regression, lr = \", h, \"======\")\n",
    "    mae = mean_absolute_error(target, pred)\n",
    "    r2 = r2_score(target, pred)\n",
    "    mae_list[i] = mae\n",
    "    r2_list[i] = r2\n",
    "    print('mean absolute error: {0}'.format(mae))\n",
    "    print('r2 score: {0}'.format(r2))\n",
    "\n",
    "#     fig, ax = plt.subplots()\n",
    "#     ax.scatter(target, pred, marker='.')\n",
    "#     ax.plot([Y_val.min(), Y_val.max()], [Y_val.min(), Y_val.max()], 'k--', lw=2)\n",
    "#     ax.set_xlabel('Real')\n",
    "#     ax.set_ylabel('Predicted')\n",
    "#     plt.title(\"{0} prediction result\".format(model))\n",
    "#     plt.show()\n",
    "\n",
    "plt.plot(hyper_list, r2_list)\n",
    "plt.xlabel(\"lr\")\n",
    "plt.ylabel(\"error\")\n",
    "plt.show()"
   ]
  },
  {
   "cell_type": "code",
   "execution_count": 72,
   "metadata": {},
   "outputs": [
    {
     "name": "stdout",
     "output_type": "stream",
     "text": [
      "(30851, 7) (30851, 1)\n"
     ]
    },
    {
     "name": "stderr",
     "output_type": "stream",
     "text": [
      "/Library/Frameworks/Python.framework/Versions/3.7/lib/python3.7/site-packages/sklearn/utils/validation.py:761: DataConversionWarning: A column-vector y was passed when a 1d array was expected. Please change the shape of y to (n_samples, ), for example using ravel().\n",
      "  y = column_or_1d(y, warn=True)\n"
     ]
    },
    {
     "name": "stdout",
     "output_type": "stream",
     "text": [
      "====== Random_forest ======\n",
      "mean absolute error: 741.8100215165217\n",
      "r2 score: 0.776625916573589\n"
     ]
    },
    {
     "data": {
      "image/png": "[encoded data removed]",
      "text/plain": [
       "<Figure size 432x288 with 1 Axes>"
      ]
     },
     "metadata": {},
     "output_type": "display_data"
    },
    {
     "name": "stderr",
     "output_type": "stream",
     "text": [
      "/Library/Frameworks/Python.framework/Versions/3.7/lib/python3.7/site-packages/sklearn/utils/validation.py:761: DataConversionWarning: A column-vector y was passed when a 1d array was expected. Please change the shape of y to (n_samples, ), for example using ravel().\n",
      "  y = column_or_1d(y, warn=True)\n"
     ]
    },
    {
     "name": "stdout",
     "output_type": "stream",
     "text": [
      "====== Gradient-base-regressor ======\n",
      "mean absolute error: 430.97736043280946\n",
      "r2 score: 0.9018155890331374\n"
     ]
    },
    {
     "data": {
      "image/png": "[encoded data removed]",
      "text/plain": [
       "<Figure size 432x288 with 1 Axes>"
      ]
     },
     "metadata": {},
     "output_type": "display_data"
    },
    {
     "name": "stdout",
     "output_type": "stream",
     "text": [
      "====== KNN ======\n",
      "mean absolute error: 643.2196836099586\n",
      "r2 score: 0.784206745537886\n"
     ]
    },
    {
     "data": {
      "image/png": "[encoded data removed]",
      "text/plain": [
       "<Figure size 432x288 with 1 Axes>"
      ]
     },
     "metadata": {},
     "output_type": "display_data"
    }
   ],
   "source": [
    "# for testing\n",
    "models_name = {\n",
    "    \"Random_forest\": AdaBoostRegressor(DecisionTreeRegressor(max_depth=4),\n",
    "                          n_estimators=200),\n",
    "    \"Gradient-base-regressor\": ensemble.GradientBoostingRegressor(learning_rate = 0.6),\n",
    "    \"KNN\": neighbors.KNeighborsRegressor(n_neighbors = 5)\n",
    "}\n",
    "\n",
    "# Concatenation\n",
    "X_transformed = np.concatenate((X_train_transformed, X_val_transformed), 0)\n",
    "y_train_val = np.concatenate((Y_train, Y_val), 0)\n",
    "print(X_transformed.shape, y_train_val.shape)\n",
    "# # #show results with validation\n",
    "for model in models_name:\n",
    "    \n",
    "    # fit on training\n",
    "    reg = models_name[model].fit(X_transformed, y_train_val)\n",
    "\n",
    "    # test on testing\n",
    "    pred = reg.predict(X_test_transformed)\n",
    "    target = Y_test\n",
    "\n",
    "    print(\"======\", model, \"======\")\n",
    "    print('mean absolute error: {0}'.format(mean_absolute_error(target, pred)))\n",
    "    print('r2 score: {0}'.format(r2_score(target, pred)))\n",
    "\n",
    "\n",
    "    fig, ax = plt.subplots()\n",
    "    ax.scatter(target, pred, marker='.')\n",
    "    ax.plot([Y_val.min(), Y_val.max()], [Y_val.min(), Y_val.max()], 'k--', lw=2)\n",
    "    ax.set_xlabel('Real')\n",
    "    ax.set_ylabel('Predicted')\n",
    "    plt.title(\"{0} prediction result\".format(model))\n",
    "    plt.show()"
   ]
  },
  {
   "cell_type": "code",
   "execution_count": 10,
   "metadata": {},
   "outputs": [],
   "source": [
    "### Use neural network raw as input for regression\n",
    "import torch\n",
    "import torch.nn as nn\n",
    "import torch.nn.functional as F\n",
    "from torch.utils.data import Dataset, DataLoader\n",
    "from torch.utils.data.sampler import SubsetRandomSampler"
   ]
  },
  {
   "cell_type": "code",
   "execution_count": 53,
   "metadata": {},
   "outputs": [],
   "source": [
    "\n",
    "## X_train, X_val, Y_train, Y_val, X_test, Y_test\n",
    "class myNet(nn.Module):\n",
    "    def __init__(self):\n",
    "        super(myNet, self).__init__()\n",
    "        # 1 input image channel, 6 output channels, 3x3 square convolution\n",
    "        # kernel\n",
    "        self.fc1 = nn.Linear(59, 100)\n",
    "        torch.nn.init.kaiming_uniform_(self.fc1.weight, a=0, mode='fan_in', nonlinearity='relu')\n",
    "#         torch.nn.init.xavier_uniform_(self.fc1.weight)\n",
    "        nn.Dropout(0.5)\n",
    "        self.fc2 = nn.Linear(100, 50)\n",
    "        torch.nn.init.kaiming_uniform_(self.fc2.weight, a=0, mode='fan_in', nonlinearity='relu')\n",
    "#         torch.nn.init.xavier_uniform_(self.fc2.weight)\n",
    "        nn.Dropout(0.5)\n",
    "        # an affine operation: y = Wx + b\n",
    "        self.fc3 = nn.Linear(50, 20)  # 6*6 from image dimension\n",
    "        torch.nn.init.kaiming_uniform_(self.fc3.weight, a=0, mode='fan_in', nonlinearity='relu')\n",
    "#         torch.nn.init.xavier_uniform_(self.fc3.weight)\n",
    "        self.fc4 = nn.Linear(20, 1)  # 6*6 from image dimension\n",
    "        torch.nn.init.kaiming_uniform_(self.fc4.weight, a=0, mode='fan_in', nonlinearity='relu')\n",
    "       \n",
    "    def forward(self, x):\n",
    "        # Max pooling over a (2, 2) window\n",
    "        x = F.relu(self.fc1(x))\n",
    "        x = F.relu(self.fc2(x))\n",
    "        x = F.relu(self.fc3(x))\n",
    "        x = F.relu(self.fc4(x))\n",
    "        return x\n"
   ]
  },
  {
   "cell_type": "code",
   "execution_count": 54,
   "metadata": {},
   "outputs": [],
   "source": [
    "class NNregDataset(Dataset):\n",
    "    def __init__(self, data, target):\n",
    "        self.data = data\n",
    "        self.target = target\n",
    "\n",
    "    def __getitem__(self, id):\n",
    "        return self.data[id], self.target[id]\n",
    "\n",
    "    def __len__(self):\n",
    "        return len(self.target)"
   ]
  },
  {
   "cell_type": "code",
   "execution_count": 55,
   "metadata": {},
   "outputs": [],
   "source": [
    "dataset = NNregDataset(X_train_val, Y_train_val)\n",
    "batch_size = 100\n",
    "validation_split = .3\n",
    "shuffle_dataset = True\n",
    "# rnd_seed = 42\n",
    "# Creating data indices for training and validation splits:\n",
    "dataset_size = len(dataset)\n",
    "indices = list(range(dataset_size))\n",
    "split = int(np.floor(validation_split * dataset_size))\n",
    "\n",
    "if shuffle_dataset:\n",
    "    # np.random.seed(0)\n",
    "    np.random.shuffle(indices)\n",
    "train_indices, val_indices = indices[split:], indices[:split]\n",
    "\n",
    "# Creating PT data samplers and loaders:\n",
    "train_sampler = SubsetRandomSampler(train_indices)\n",
    "valid_sampler = SubsetRandomSampler(val_indices)\n",
    "\n",
    "## for cross validation\n",
    "train_loader = torch.utils.data.DataLoader(dataset, batch_size=batch_size, \n",
    "                                           sampler=train_sampler)\n",
    "validation_loader = torch.utils.data.DataLoader(dataset, batch_size=1,\n",
    "                                                sampler=valid_sampler)"
   ]
  },
  {
   "cell_type": "code",
   "execution_count": 56,
   "metadata": {},
   "outputs": [],
   "source": [
    "learning_rate = 0.01\n",
    "num_epochs = 70\n",
    "\n",
    "val_interval = 5"
   ]
  },
  {
   "cell_type": "code",
   "execution_count": 57,
   "metadata": {},
   "outputs": [
    {
     "name": "stdout",
     "output_type": "stream",
     "text": [
      "START TRAINING...\n",
      "+ TRAINING \tEpoch: 1 \tLoss: 4090983.251158\n",
      "--------------------------------------------------\n",
      "+ VALIDATE \tEpoch: 1 \tLoss: 3900243.251681 MAE:  1733.5339725306844\n",
      "--------------------------------------------------\n",
      "+ TRAINING \tEpoch: 2 \tLoss: 3664195.055427\n",
      "+ TRAINING \tEpoch: 3 \tLoss: 3395142.660585\n",
      "+ TRAINING \tEpoch: 4 \tLoss: 2621751.914128\n",
      "+ TRAINING \tEpoch: 5 \tLoss: 1467601.386623\n",
      "--------------------------------------------------\n",
      "+ VALIDATE \tEpoch: 5 \tLoss: 1388300.206018 MAE:  884.84133631512\n",
      "--------------------------------------------------\n",
      "+ TRAINING \tEpoch: 6 \tLoss: 1059632.167230\n",
      "+ TRAINING \tEpoch: 7 \tLoss: 959352.608162\n",
      "+ TRAINING \tEpoch: 8 \tLoss: 927652.898835\n",
      "+ TRAINING \tEpoch: 9 \tLoss: 841928.953452\n",
      "+ TRAINING \tEpoch: 10 \tLoss: 856855.292606\n",
      "--------------------------------------------------\n",
      "+ VALIDATE \tEpoch: 10 \tLoss: 854359.207438 MAE:  639.7548491162136\n",
      "--------------------------------------------------\n",
      "+ TRAINING \tEpoch: 11 \tLoss: 810827.233359\n",
      "+ TRAINING \tEpoch: 12 \tLoss: 796224.730448\n",
      "+ TRAINING \tEpoch: 13 \tLoss: 766503.239101\n",
      "+ TRAINING \tEpoch: 14 \tLoss: 753176.724017\n",
      "+ TRAINING \tEpoch: 15 \tLoss: 770511.957521\n",
      "--------------------------------------------------\n",
      "+ VALIDATE \tEpoch: 15 \tLoss: 695446.600141 MAE:  588.1249284559814\n",
      "--------------------------------------------------\n",
      "+ TRAINING \tEpoch: 16 \tLoss: 729947.356281\n",
      "+ TRAINING \tEpoch: 17 \tLoss: 677113.541084\n",
      "+ TRAINING \tEpoch: 18 \tLoss: 682498.955252\n",
      "+ TRAINING \tEpoch: 19 \tLoss: 705333.687928\n",
      "+ TRAINING \tEpoch: 20 \tLoss: 587009.454204\n",
      "--------------------------------------------------\n",
      "+ VALIDATE \tEpoch: 20 \tLoss: 574276.345849 MAE:  527.2703383896559\n",
      "--------------------------------------------------\n",
      "+ TRAINING \tEpoch: 21 \tLoss: 560883.720266\n",
      "+ TRAINING \tEpoch: 22 \tLoss: 541218.628667\n",
      "+ TRAINING \tEpoch: 23 \tLoss: 514245.863742\n",
      "+ TRAINING \tEpoch: 24 \tLoss: 510697.359155\n",
      "+ TRAINING \tEpoch: 25 \tLoss: 573507.053543\n",
      "--------------------------------------------------\n",
      "+ VALIDATE \tEpoch: 25 \tLoss: 422629.034179 MAE:  441.3250765841179\n",
      "--------------------------------------------------\n",
      "+ TRAINING \tEpoch: 26 \tLoss: 505530.171791\n",
      "+ TRAINING \tEpoch: 27 \tLoss: 486915.147154\n",
      "+ TRAINING \tEpoch: 28 \tLoss: 508487.637795\n",
      "+ TRAINING \tEpoch: 29 \tLoss: 478966.701664\n",
      "+ TRAINING \tEpoch: 30 \tLoss: 467781.980728\n",
      "--------------------------------------------------\n",
      "+ VALIDATE \tEpoch: 30 \tLoss: 413458.746653 MAE:  428.17734851806244\n",
      "--------------------------------------------------\n",
      "+ TRAINING \tEpoch: 31 \tLoss: 439693.922057\n",
      "+ TRAINING \tEpoch: 32 \tLoss: 467659.796325\n",
      "+ TRAINING \tEpoch: 33 \tLoss: 427019.868445\n",
      "+ TRAINING \tEpoch: 34 \tLoss: 464143.311985\n",
      "+ TRAINING \tEpoch: 35 \tLoss: 403659.051306\n",
      "--------------------------------------------------\n",
      "+ VALIDATE \tEpoch: 35 \tLoss: 520739.525219 MAE:  490.83191958633\n",
      "--------------------------------------------------\n",
      "+ TRAINING \tEpoch: 36 \tLoss: 450881.751366\n",
      "+ TRAINING \tEpoch: 37 \tLoss: 438668.587878\n",
      "+ TRAINING \tEpoch: 38 \tLoss: 424300.143389\n",
      "+ TRAINING \tEpoch: 39 \tLoss: 417498.590349\n",
      "+ TRAINING \tEpoch: 40 \tLoss: 421216.867884\n",
      "--------------------------------------------------\n",
      "+ VALIDATE \tEpoch: 40 \tLoss: 406209.341552 MAE:  427.8817189023406\n",
      "--------------------------------------------------\n",
      "+ TRAINING \tEpoch: 41 \tLoss: 404663.002026\n",
      "+ TRAINING \tEpoch: 42 \tLoss: 466623.048814\n",
      "+ TRAINING \tEpoch: 43 \tLoss: 479007.046716\n",
      "+ TRAINING \tEpoch: 44 \tLoss: 408460.232355\n",
      "+ TRAINING \tEpoch: 45 \tLoss: 457550.747607\n",
      "--------------------------------------------------\n",
      "+ VALIDATE \tEpoch: 45 \tLoss: 488569.366490 MAE:  462.6587952187743\n",
      "--------------------------------------------------\n",
      "+ TRAINING \tEpoch: 46 \tLoss: 409016.126595\n",
      "+ TRAINING \tEpoch: 47 \tLoss: 421145.228190\n",
      "+ TRAINING \tEpoch: 48 \tLoss: 361923.596891\n",
      "+ TRAINING \tEpoch: 49 \tLoss: 385534.071859\n",
      "+ TRAINING \tEpoch: 50 \tLoss: 401265.442808\n",
      "--------------------------------------------------\n",
      "+ VALIDATE \tEpoch: 50 \tLoss: 358778.805280 MAE:  392.90398858810744\n",
      "--------------------------------------------------\n",
      "+ TRAINING \tEpoch: 51 \tLoss: 361664.935837\n",
      "+ TRAINING \tEpoch: 52 \tLoss: 385690.240175\n",
      "+ TRAINING \tEpoch: 53 \tLoss: 364755.418457\n",
      "+ TRAINING \tEpoch: 54 \tLoss: 379361.802773\n",
      "+ TRAINING \tEpoch: 55 \tLoss: 391424.558078\n",
      "--------------------------------------------------\n",
      "+ VALIDATE \tEpoch: 55 \tLoss: 466353.281800 MAE:  453.73534631796105\n",
      "--------------------------------------------------\n",
      "+ TRAINING \tEpoch: 56 \tLoss: 355293.667852\n",
      "+ TRAINING \tEpoch: 57 \tLoss: 347324.468388\n",
      "+ TRAINING \tEpoch: 58 \tLoss: 370365.472996\n",
      "+ TRAINING \tEpoch: 59 \tLoss: 411304.105613\n",
      "+ TRAINING \tEpoch: 60 \tLoss: 354837.179524\n",
      "--------------------------------------------------\n",
      "+ VALIDATE \tEpoch: 60 \tLoss: 362224.567865 MAE:  403.327112624273\n",
      "--------------------------------------------------\n",
      "+ TRAINING \tEpoch: 61 \tLoss: 408861.719890\n",
      "+ TRAINING \tEpoch: 62 \tLoss: 390989.413112\n",
      "+ TRAINING \tEpoch: 63 \tLoss: 365293.508223\n",
      "+ TRAINING \tEpoch: 64 \tLoss: 356510.460237\n",
      "+ TRAINING \tEpoch: 65 \tLoss: 349331.047060\n",
      "--------------------------------------------------\n",
      "+ VALIDATE \tEpoch: 65 \tLoss: 316526.607586 MAE:  356.04619114328113\n",
      "--------------------------------------------------\n",
      "+ TRAINING \tEpoch: 66 \tLoss: 347537.934565\n",
      "+ TRAINING \tEpoch: 67 \tLoss: 341619.378253\n",
      "+ TRAINING \tEpoch: 68 \tLoss: 344079.077270\n",
      "+ TRAINING \tEpoch: 69 \tLoss: 334029.665236\n",
      "+ TRAINING \tEpoch: 70 \tLoss: 354427.828773\n",
      "--------------------------------------------------\n",
      "+ VALIDATE \tEpoch: 70 \tLoss: 316890.069003 MAE:  358.2073456997616\n",
      "--------------------------------------------------\n",
      "\n",
      "Finished TRAINING.\n"
     ]
    }
   ],
   "source": [
    "import os\n",
    "out_dir = \"/Users/tianyangsun/Desktop/velo/starting_kit/\"\n",
    "model_dir = os.path.join(out_dir, 'model')\n",
    "if not os.path.exists(model_dir):\n",
    "    os.makedirs(model_dir)\n",
    "    \n",
    "model1 = myNet()\n",
    "model1.train()\n",
    "    \n",
    "optimizer = torch.optim.Adam(model1.parameters(), lr=learning_rate, amsgrad=True)\n",
    "\n",
    "loss_train_log = []\n",
    "loss_val_log = []\n",
    "epoch_val_log = []\n",
    "\n",
    "print('START TRAINING...')\n",
    "for epoch in range(1, num_epochs + 1):\n",
    "    # Training\n",
    "    model1.train()\n",
    "    epoch_loss = 0\n",
    "    ctr = 0\n",
    "    for batch_idx, batch_samples in enumerate(train_loader):\n",
    "        aa = batch_samples[0].float()\n",
    "\n",
    "        optimizer.zero_grad()\n",
    "        prd = model1(aa)\n",
    "\n",
    "        prd_flat = prd.view(-1)\n",
    "        target = batch_samples[1].view(-1)\n",
    "       \n",
    "        loss = F.mse_loss(prd_flat.cpu(), target.float())\n",
    "        loss.backward()\n",
    "        optimizer.step()\n",
    "\n",
    "        epoch_loss += loss.detach().item()* len(batch_samples[0]) / len(train_sampler)\n",
    "        # ctr += 1\n",
    "\n",
    "    loss_train_log.append(epoch_loss)\n",
    "    print('+ TRAINING \\tEpoch: {} \\tLoss: {:.6f}'.format(epoch, loss_train_log[-1]))\n",
    "\n",
    "    \n",
    "    # Validation\n",
    "    if epoch == 1 or epoch % val_interval == 0:\n",
    "        loss_val = 0\n",
    "        sum_pts = 0\n",
    "        loss_print = 0\n",
    "        ctr = 0\n",
    "        epoch_loss_val = 0\n",
    "        epoch_mae = 0\n",
    "        model1.eval()\n",
    "        with torch.no_grad():\n",
    "            # for batch_idx, batch_samples in enumerate(val_set):\n",
    "            for batch_samples in validation_loader:    \n",
    "                ttt = batch_samples[0].float()\n",
    "               \n",
    "                prd = model1(ttt)\n",
    "                prd_flat = prd.view(-1)\n",
    "                target = batch_samples[1].view(-1)\n",
    "\n",
    "                loss_val = F.mse_loss(prd_flat.cpu(), target.float())\n",
    "                \n",
    "                epoch_loss_val += loss_val.detach().item()  # * len(batch_samples[0]) / len(valid_sampler)\n",
    "                # sum_pts += len(batch_samples)\n",
    "\n",
    "                loss_mae = torch.nn.L1Loss()\n",
    "                MAE = loss_mae(prd.cpu().reshape(1, 1), target.float().reshape(1, 1))\n",
    "                epoch_mae += MAE.detach().item()\n",
    "                ctr += 1\n",
    "\n",
    "        # loss_val /= ctr\n",
    "        # loss_print /= ctr\n",
    "            loss_val_log.append(epoch_loss_val/ctr)\n",
    "            epoch_val_log.append(epoch)\n",
    "\n",
    "\n",
    "        print('--------------------------------------------------')\n",
    "        print('+ VALIDATE \\tEpoch: {} \\tLoss: {:.6f}'.format(epoch, loss_val_log[-1]), \"MAE: \", epoch_mae/ctr)\n",
    "        # display_image(sitk.LabelToRGB(prediction))\n",
    "        print('--------------------------------------------------')\n",
    "\n",
    "torch.save(model1.state_dict(), os.path.join(model_dir, 'model1.pt'))\n",
    "\n",
    "print('\\nFinished TRAINING.')\n"
   ]
  },
  {
   "cell_type": "code",
   "execution_count": 58,
   "metadata": {},
   "outputs": [
    {
     "data": {
      "image/png": "[encoded data removed]",
      "text/plain": [
       "<Figure size 432x288 with 1 Axes>"
      ]
     },
     "metadata": {},
     "output_type": "display_data"
    }
   ],
   "source": [
    "plt.plot(range(1, num_epochs + 1), loss_train_log, c='r', label='train')\n",
    "plt.plot(epoch_val_log, loss_val_log, c='b', label='val')\n",
    "plt.legend(loc='upper right')\n",
    "plt.xlabel('epoch')\n",
    "plt.ylabel('loss')\n",
    "# plt.ylim(0, 200)\n",
    "plt.show()"
   ]
  },
  {
   "cell_type": "code",
   "execution_count": 59,
   "metadata": {},
   "outputs": [],
   "source": [
    "dataset_test = NNregDataset(X_test, Y_test)\n",
    "test_sampler = SubsetRandomSampler(range(len(Y_test)))\n",
    "reg_test = torch.utils.data.DataLoader(dataset_test, batch_size=1,\n",
    "                                                sampler=test_sampler)"
   ]
  },
  {
   "cell_type": "code",
   "execution_count": 60,
   "metadata": {},
   "outputs": [
    {
     "name": "stdout",
     "output_type": "stream",
     "text": [
      "START TESTING...\n",
      "tensor(354.7791)\n"
     ]
    }
   ],
   "source": [
    "pred_dir = os.path.join(out_dir, 'pred')\n",
    "if not os.path.exists(pred_dir):\n",
    "    os.makedirs(pred_dir)\n",
    "\n",
    "model = myNet()\n",
    "model.load_state_dict(torch.load(os.path.join(model_dir, 'model1.pt')))\n",
    "# model.to(device)\n",
    "model.eval()\n",
    "    \n",
    "\n",
    "print('START TESTING...')\n",
    "\n",
    "y_prd = []\n",
    "targets = []\n",
    "loss_test = 0\n",
    "sum_pts = 0\n",
    "idx_test = 0\n",
    "with torch.no_grad():\n",
    "    for batch_idx, batch_samples in enumerate(reg_test):\n",
    "        \n",
    "        img = batch_samples[0].float()\n",
    "#         img = img.view(img.size(0), 1, img.size(1), img.size(2), img.size(3)).to(device)\n",
    "\n",
    "        prd = model(img)\n",
    "        \n",
    "        target = batch_samples[1]\n",
    "        \n",
    "        loss = torch.nn.L1Loss()\n",
    "        loss_test += loss(prd.cpu(), target.float())\n",
    "        # loss_val += F.mse_loss(prd.view(-1).cpu(), target.float())\n",
    "        sum_pts += len(batch_samples[1])\n",
    "        # print(batch_idx, len(batch_samples[1]))\n",
    "        y_prd.append(prd.cpu().detach())\n",
    "        targets.append(target.cpu().detach())\n",
    "        # print(loss_test)\n",
    "    loss_test /= sum_pts\n",
    "\n",
    "print(loss_test)"
   ]
  },
  {
   "cell_type": "code",
   "execution_count": 61,
   "metadata": {},
   "outputs": [
    {
     "name": "stdout",
     "output_type": "stream",
     "text": [
      "mean absolute error: 354.7787740021573\n",
      "r2 score: 0.9237250229023998\n",
      "7712 7712\n"
     ]
    },
    {
     "data": {
      "image/png": "[encoded data removed]",
      "text/plain": [
       "<Figure size 432x288 with 1 Axes>"
      ]
     },
     "metadata": {},
     "output_type": "display_data"
    }
   ],
   "source": [
    "print('mean absolute error: {0}'.format(mean_absolute_error(targets, y_prd)))\n",
    "print('r2 score: {0}'.format(r2_score(targets, y_prd)))\n",
    "\n",
    "fig, ax = plt.subplots()\n",
    "print(len(targets),len(y_prd))\n",
    "ax.scatter(np.array(targets), np.array(y_prd), marker='.')\n",
    "ax.plot([np.array(targets).min(), np.array(targets).max()], [np.array(targets).min(), np.array(targets).max()], 'k--', lw=2)\n",
    "ax.set_xlabel('Real')\n",
    "ax.set_ylabel('Predicted')\n",
    "plt.title(\"NN regression\")\n",
    "plt.show()"
   ]
  },
  {
   "cell_type": "markdown",
   "metadata": {},
   "source": [
    "## Training a predictive model\n",
    "\n",
    "We provide an example of predictive model (for classification or regression) in the `sample_code_submission/` directory. It is a quite stupid model: it makes constant predictions. Replace it with your own model."
   ]
  },
  {
   "cell_type": "markdown",
   "metadata": {},
   "source": [
    "What we decided to do as the model binome, is to use the code from TP2 to compare several models that are chosen by us. In our opinion, the `systematic_model_experiment` provides a good framework for the testing in clear and concise code, only requiring us to make a list of the models we want to experiment on. This is also done in TP2, though they use classifiers there instead of regressors, which we have to use for this assignment."
   ]
  },
  {
   "cell_type": "code",
   "execution_count": null,
   "metadata": {},
   "outputs": [],
   "source": [
    "from data_io import write\n",
    "from model import model\n",
    "# Uncomment the next line to show the code of the model\n",
    "# ??model "
   ]
  },
  {
   "cell_type": "code",
   "execution_count": null,
   "metadata": {},
   "outputs": [],
   "source": [
    "from sklearn.svm import SVR\n",
    "from sklearn.linear_model import LinearRegression\n",
    "from sklearn.neighbors import KNeighborsRegressor\n",
    "from sklearn.ensemble import GradientBoostingRegressor\n",
    "from sklearn.neural_network import MLPRegressor\n",
    "\n",
    "model_name = [\"Random Forest Regressor (provided)\", \"Support Vector Regressor\", \n",
    "              \"Linear Regression\", \"Nearest Neighbour Regressor\", \"Gradient Boosting Regressor\",\n",
    "              \"Feedforward Neural Network Regressor\"]\n",
    "\n",
    "model_list = [\n",
    "    model(),\n",
    "    SVR(),\n",
    "    LinearRegression(),\n",
    "    KNeighborsRegressor(),\n",
    "    GradientBoostingRegressor(),\n",
    "    MLPRegressor()]"
   ]
  },
  {
   "cell_type": "code",
   "execution_count": null,
   "metadata": {},
   "outputs": [],
   "source": [
    "from libscores import get_metric\n",
    "metric_name, scoring_function = get_metric()\n",
    "scoring_function"
   ]
  },
  {
   "cell_type": "markdown",
   "metadata": {},
   "source": [
    "An instance of the model (run the constructor) and attempt to reload a previously saved version from `sample_code_submission/`:"
   ]
  },
  {
   "cell_type": "code",
   "execution_count": null,
   "metadata": {},
   "outputs": [],
   "source": [
    "M = model()\n",
    "trained_model_name = model_dir + data_name\n",
    "# Uncomment the next line to re-load an already trained model\n",
    "# M = M.load(trained_model_name)                  "
   ]
  },
  {
   "cell_type": "markdown",
   "metadata": {},
   "source": [
    "Train the model (unless you reloaded a trained model) and make predictions. "
   ]
  },
  {
   "cell_type": "code",
   "execution_count": null,
   "metadata": {
    "scrolled": true
   },
   "outputs": [],
   "source": [
    "from sklearn.model_selection import KFold\n",
    "import pandas as pd\n",
    "from sklearn.model_selection import cross_val_score\n",
    "from sklearn.metrics import make_scorer\n",
    "import numpy as np\n",
    "\n",
    "X_train = D.data['X_train']\n",
    "Y_train = D.data['Y_train']\n",
    "\n",
    "results = pd.DataFrame(columns=['Average score'])\n",
    "\n",
    "for i in range(len(model_list)):\n",
    "    m = model_list[i]\n",
    "                \n",
    "    scores = cross_val_score(m, X_train, Y_train, cv=10, scoring=make_scorer(scoring_function))\n",
    "    score = np.mean(scores)\n",
    "    \n",
    "    results.loc[model_name[i]] = score  "
   ]
  },
  {
   "cell_type": "code",
   "execution_count": null,
   "metadata": {},
   "outputs": [],
   "source": [
    "results.round(2).style.background_gradient(cmap='Blues')"
   ]
  },
  {
   "cell_type": "markdown",
   "metadata": {},
   "source": [
    "Based on this limited testing, the Random Forest Regressor provided by this challenge outperforms the other models. The performance of the Gradient Boosted Trees is also very close though, so it might be worth it to stack it on top of the Random Forest Regressor. However, for some reason the StackingRegressor from scikit-learn did not like the model provided and it does not run. Therefore, we just end up going with the provided Random Forest Regressor model."
   ]
  },
  {
   "cell_type": "code",
   "execution_count": null,
   "metadata": {},
   "outputs": [],
   "source": [
    "from sklearn.ensemble import StackingRegressor\n",
    "from sklearn.ensemble import RandomForestRegressor\n",
    "\n",
    "reg = StackingRegressor(\n",
    "     estimators=[('rfr', RandomForestRegressor()), ('gbt', GradientBoostingRegressor(random_state=42))])\n",
    "\n",
    "scores_stack = cross_val_score(reg, X_train, Y_train, cv=10, scoring=make_scorer(scoring_function))\n",
    "\n",
    "score_stack = np.mean(scores_stack)\n",
    "score_stack"
   ]
  },
  {
   "cell_type": "markdown",
   "metadata": {},
   "source": [
    "Stacking these two models and training them both is more computationally expensive than just one of the models. Thus, there should be quite a significant improvement in the performance for the stacking to be worth it. We found out that the original model in the `model.py` file does not allow to be stacked due to its fit function not returning self at the end. Therefore, we tried it with the Random Forest Regressor, which is what the `model.py` uses."
   ]
  },
  {
   "cell_type": "markdown",
   "metadata": {},
   "source": [
    "To try something else, we also wanted to try Adaboost, another ensemble method. This method is more elaborate than the more basic ensemble methods like stacking and bagging. Subsequent regressors have a weighted version of the original dataset with higher weights for examples that the previous regressors had errors on."
   ]
  },
  {
   "cell_type": "code",
   "execution_count": null,
   "metadata": {},
   "outputs": [],
   "source": [
    "from sklearn.ensemble import AdaBoostRegressor\n",
    "\n",
    "Adaboost = AdaBoostRegressor(n_estimators=200)\n",
    "\n",
    "scores_ada = cross_val_score(Adaboost, X_train, Y_train, cv=10, scoring=make_scorer(scoring_function))\n",
    "\n",
    "score_ada = np.mean(scores_ada)\n",
    "score_ada"
   ]
  },
  {
   "cell_type": "markdown",
   "metadata": {},
   "source": [
    "This score is not that great compared to the other models. It could still be improved by looking at different estimators in the boosting algorithm. Still, from the tested algorithms, the Random Forest Regressor has performed the best."
   ]
  },
  {
   "cell_type": "markdown",
   "metadata": {},
   "source": [
    "Now, to find the best hyperparameters of the best model, Random Forest Regressor, we will run random search. This method is similar to gridsearch, though it chooses the combinations of hyperparameters at random. It is therefore more based on luck. Still, it has given slightly more competitive results in the past, which is why we have chosen to use it.\n",
    "\n",
    "https://analyticsindiamag.com/why-is-random-search-better-than-grid-search-for-machine-learning/\n",
    "\n",
    "We chose to test the following variables:\n",
    "- max_depth\n",
    "- n_estimators\n",
    "- criterion\n",
    "- min_samples_split"
   ]
  },
  {
   "cell_type": "markdown",
   "metadata": {},
   "source": [
    "A Random Forest has several hyperparameters to choose from. There are many arguments in the `RandomForestRegressor` of scikit-learn, though many of those have to do with the nature of the implementation (for example verbose, which only regulates how much is printed in the process of training and predicting). We will discuss the most important hyperparameters now.\n",
    "\n",
    "`n_estimators` determines how many trees are constructed to form the random forest. If a value of 1 is chosen, the forest is actually just one decision tree, which is much more likely to overfit. Thus, choosing a higher number for this parameter is likely to reduce overfitting due to the fact that many estimators with a higher probability of being right than wrong will have a high chance of being right by averaging the vote. The training and testing time is increasing when the number of trees is increased, meaning there is a trade-off to be made.\n",
    "\n",
    "`criterion` determines what metric is used to measure the quality of a split in the tree. This does not have as immediate of an effect on overfitting and the calculation time/training time is likely insignificantly different. \n",
    "\n",
    "`max_depth` determines how large each individual tree in the forest can grow. If the trees are allowed to grow large, they become estimators with a low bias but very high variance, meaning they overfit easily. The whole strength in random forests come from the fact that they combine a large number of smaller trees that are not large enough to incorporate all the complexities in the data, and thus are less likely to overfit. A `max_depth` that is really small can lead to the model underfitting the data however. A lower `max_depth` leads to smaller trees and thus less time in training and testing of the model.\n",
    "\n",
    "`min_samples_split` determines how many datapoints need to be gathered at a node in the tree in order for that node to be considered as a possible split point. If this number is as large as the number of datapoints in the dataset, the tree will just have one node, so that is probably not that great of an idea. Making the number very low could mean that many datapoints will be concentrated at one node and the tree only splits nodes with very few datapoints. However, this is not always a good point. It could, hypothetically, be the case that a majority of the datapoints is correctly classified when they're grouped in one node without that node having to be split further. This means that this parameter is less clear on over- or underfitting."
   ]
  },
  {
   "cell_type": "code",
   "execution_count": null,
   "metadata": {
    "scrolled": true
   },
   "outputs": [],
   "source": [
    "from sklearn.model_selection import RandomizedSearchCV\n",
    "from scipy.stats import uniform\n",
    "\n",
    "params = dict(max_depth=uniform(loc=5, scale=45), n_estimators=uniform(loc=50, scale=450),\n",
    "             criterion=['mse', 'mae'], min_samples_split=uniform(loc=2, scale=10))\n",
    "\n",
    "randomsearch_model = RandomizedSearchCV(model(), params, scoring=make_scorer(scoring_function), random_state=42)\n",
    "search = randomsearch_model.fit(X_train, Y_train)"
   ]
  },
  {
   "cell_type": "markdown",
   "metadata": {},
   "source": [
    "### WE ARE AWARE THAT THE CELL ABOVE HERE DOESN'T RUN. WE EXPLAIN THAT IN THIS MARKDOWN CELL\n",
    "\n",
    "So apparently the model does not allow for parameters to be passed, which is visible from the hardcoded parameters in the `model.py` file. Therefore, we chose to just get the `RandomForestRegressor` from scikit-learn and use that for the random search. We think this is reasonable since the `model.py` uses this model. We also reduced the parameters we test in order to reduce the computation time."
   ]
  },
  {
   "cell_type": "code",
   "execution_count": null,
   "metadata": {},
   "outputs": [],
   "source": [
    "from sklearn.model_selection import RandomizedSearchCV\n",
    "from scipy.stats import uniform\n",
    "from sklearn.metrics import make_scorer\n",
    "import numpy as np\n",
    "\n",
    "params = dict(max_depth=[5, 25, 50], n_estimators=[50, 250, 500], min_samples_split=[2, 5, 10])\n",
    "\n",
    "randomsearch_model = RandomizedSearchCV(RandomForestRegressor(), params, scoring=make_scorer(scoring_function), random_state=42)\n",
    "search = randomsearch_model.fit(X_train, Y_train)"
   ]
  },
  {
   "cell_type": "code",
   "execution_count": null,
   "metadata": {},
   "outputs": [],
   "source": [
    "search.best_params_"
   ]
  },
  {
   "cell_type": "markdown",
   "metadata": {},
   "source": [
    "The best parameters can be seen above. We will run the analysis one last time with these parameters."
   ]
  },
  {
   "cell_type": "code",
   "execution_count": null,
   "metadata": {},
   "outputs": [],
   "source": [
    "RF_model = RandomForestRegressor(n_estimators=500, min_samples_split=2, max_depth=25)\n",
    "\n",
    "scores_best_params = cross_val_score(RF_model, X_train, Y_train, cv=10, scoring=make_scorer(scoring_function))\n",
    "\n",
    "print(np.mean(scores_best_params))"
   ]
  },
  {
   "cell_type": "code",
   "execution_count": null,
   "metadata": {},
   "outputs": [],
   "source": [
    "RF_model.fit(X_train, Y_train)\n",
    "\n",
    "Y_hat_train = RF_model.predict(X_train)\n",
    "Y_hat_valid = RF_model.predict(D.data['X_valid'])\n",
    "Y_hat_test = RF_model.predict(D.data['X_test'])"
   ]
  },
  {
   "cell_type": "markdown",
   "metadata": {},
   "source": [
    "Save the trained model (will be ready to reload next time around) and save the prediction results. IMPORTANT: if you save the trained model, it will be bundled with your sample code submission. Therefore your model will NOT be retrained on the challenge platform. Remove the pickle from the submission if you want the model to be retrained on the platform. "
   ]
  },
  {
   "cell_type": "code",
   "execution_count": null,
   "metadata": {},
   "outputs": [],
   "source": [
    "M.save(trained_model_name)                 \n",
    "result_name = result_dir + data_name\n",
    "from data_io import write\n",
    "write(result_name + '_train.predict', Y_hat_train)\n",
    "write(result_name + '_valid.predict', Y_hat_valid)\n",
    "write(result_name + '_test.predict', Y_hat_test)\n",
    "!ls $result_name*"
   ]
  },
  {
   "cell_type": "markdown",
   "metadata": {},
   "source": [
    "## Scoring the results\n",
    "### Load the challenge metric\n",
    "\n",
    "The metric chosen for your challenge is identified in the \"metric.txt\" file found in the `scoring_function/` directory. The function \"get_metric\" searches first for a metric having that name in my_metric.py, then in libscores.py, then in sklearn.metric."
   ]
  },
  {
   "cell_type": "code",
   "execution_count": null,
   "metadata": {},
   "outputs": [],
   "source": [
    "from libscores import get_metric\n",
    "metric_name, scoring_function = get_metric()\n",
    "print('Using scoring metric:', metric_name)\n",
    "# Uncomment the next line to display the code of the scoring metric\n",
    "# ??scoring_function"
   ]
  },
  {
   "cell_type": "markdown",
   "metadata": {},
   "source": [
    "### Training performance\n",
    "\n",
    "The participants normally posess target values (labels) only for training examples (except for the sample data). We compute with the `example` metric the training score, which should be zero for perfect predictions."
   ]
  },
  {
   "cell_type": "code",
   "execution_count": null,
   "metadata": {},
   "outputs": [],
   "source": [
    "print('Training score for the', metric_name, 'metric = %5.4f' % scoring_function(Y_train, Y_hat_train))\n",
    "print('Ideal score for the', metric_name, 'metric = %5.4f' % scoring_function(Y_train, Y_train))"
   ]
  },
  {
   "cell_type": "markdown",
   "metadata": {},
   "source": [
    "You can add here other scores and result visualization."
   ]
  },
  {
   "cell_type": "code",
   "execution_count": null,
   "metadata": {},
   "outputs": [],
   "source": [
    "plt.scatter(Y_train, Y_hat_train, alpha ='0.5', s = 1 )\n",
    "plt.show()"
   ]
  },
  {
   "cell_type": "markdown",
   "metadata": {},
   "source": [
    "### Cross-validation performance\n",
    "The participants do not have access to the labels Y_valid and Y_test to self-assess their validation and test performances. But training performance is not a good prediction of validation or test performance. Using cross-validation, the training data is split into multiple training/test folds, which allows participants to self-assess their model during development. The average CV result and 95% confidence interval is displayed."
   ]
  },
  {
   "cell_type": "code",
   "execution_count": null,
   "metadata": {},
   "outputs": [],
   "source": [
    "from sklearn.metrics import make_scorer\n",
    "from sklearn.model_selection import cross_val_score\n",
    "scores = cross_val_score(RF_model, X_train, Y_train, cv=5, scoring=make_scorer(scoring_function))\n",
    "print('\\nCV score (95 perc. CI): %0.2f (+/- %0.2f)' % (scores.mean(), scores.std() * 2))"
   ]
  },
  {
   "cell_type": "markdown",
   "metadata": {},
   "source": [
    "# Step 3: Making a submission\n",
    "\n",
    "## Unit testing\n",
    "\n",
    "It is important that you test your submission files before submitting them. All you have to do to make a submission is modify the file model.py in the sample_code_submission/ directory, then run this test to make sure everything works fine. This is the actual program that will be run on the server to test your submission. \n",
    "\n",
    "Keep the sample code simple.\n"
   ]
  },
  {
   "cell_type": "code",
   "execution_count": null,
   "metadata": {
    "scrolled": true
   },
   "outputs": [],
   "source": [
    "!source activate python3; python $problem_dir/ingestion.py $data_dir $result_dir $problem_dir $model_dir"
   ]
  },
  {
   "cell_type": "markdown",
   "metadata": {},
   "source": [
    "Also test the scoring program:"
   ]
  },
  {
   "cell_type": "code",
   "execution_count": null,
   "metadata": {},
   "outputs": [],
   "source": [
    "scoring_output_dir = 'scoring_output'\n",
    "!source activate python3; python $score_dir/score.py $data_dir $result_dir $scoring_output_dir"
   ]
  },
  {
   "cell_type": "markdown",
   "metadata": {},
   "source": [
    "# Preparing the submission\n",
    "\n",
    "Zip the contents of `sample_code_submission/` (without the directory), or download the challenge public_data and run the command in the previous cell, after replacing sample_data by public_data.\n",
    "Then zip the contents of `sample_result_submission/` (without the directory).\n",
    "\n",
    "Do NOT zip the data with your submissions."
   ]
  },
  {
   "cell_type": "code",
   "execution_count": null,
   "metadata": {},
   "outputs": [],
   "source": [
    "import datetime \n",
    "from data_io import zipdir\n",
    "the_date = datetime.datetime.now().strftime(\"%y-%m-%d-%H-%M\")\n",
    "sample_code_submission = '../sample_code_submission_' + the_date + '.zip'\n",
    "sample_result_submission = '../sample_result_submission_' + the_date + '.zip'\n",
    "zipdir(sample_code_submission, model_dir)\n",
    "zipdir(sample_result_submission, result_dir)\n",
    "print(\"Submit one of these files:\\n\" + sample_code_submission + \"\\n\" + sample_result_submission)"
   ]
  },
  {
   "cell_type": "code",
   "execution_count": null,
   "metadata": {},
   "outputs": [],
   "source": []
  }
 ],
 "metadata": {
  "kernelspec": {
   "display_name": "Python 3",
   "language": "python",
   "name": "python3"
  },
  "language_info": {
   "codemirror_mode": {
    "name": "ipython",
    "version": 3
   },
   "file_extension": ".py",
   "mimetype": "text/x-python",
   "name": "python",
   "nbconvert_exporter": "python",
   "pygments_lexer": "ipython3",
   "version": "3.7.6"
  }
 },
 "nbformat": 4,
 "nbformat_minor": 4
}
