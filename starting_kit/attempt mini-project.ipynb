{
 "cells": [
  {
   "cell_type": "code",
   "execution_count": 8,
   "metadata": {},
   "outputs": [],
   "source": [
    "model_dir = 'sample_code_submission/'                        # Change the model to a better one once you have one!\n",
    "#model_dir = '../FILES/pretty_good_sample_code_submission/'\n",
    "result_dir = 'sample_result_submission/' \n",
    "\n",
    "problem_dir = 'ingestion_program/'  \n",
    "score_dir = 'scoring_program/'\n",
    "path.append(model_dir); path.append(problem_dir); path.append(score_dir); \n",
    "%matplotlib inline\n",
    "# Uncomment the next lines to auto-reload libraries (this causes some problem with pickles in Python 3)\n",
    "%load_ext autoreload\n",
    "%autoreload 2\n",
    "sns.set()\n",
    "from sys import path\n",
    "import numpy as np\n",
    "import matplotlib.pyplot as plt\n",
    "import seaborn as sns\n",
    "import warnings\n",
    "from sklearn.neighbors import LocalOutlierFactor as sk\n",
    "warnings.simplefilter(action='ignore', category=FutureWarning)\n",
    "import numpy as np   # We recommend to use numpy arrays\n",
    "from os.path import isfile\n",
    "import numpy as np \n",
    "from sklearn.tree import DecisionTreeRegressor\n",
    "from sklearn.ensemble import IsolationForest\n",
    "from sklearn.decomposition import PCA\n",
    "from sklearn.model_selection import train_test_split\n",
    "from data_manager import DataManager\n",
    "from model import model\n",
    "from sklearn.ensemble import RandomForestClassifier\n",
    "from sklearn.model_selection import ParameterGrid\n",
    "from sklearn.feature_selection import VarianceThreshold\n",
    "from sklearn.ensemble import IsolationForest\n",
    "from sklearn.ensemble import ExtraTreesClassifier\n",
    "from sklearn.datasets import load_iris\n",
    "from sklearn.feature_selection import SelectFromModel"
   ]
  },
  {
   "cell_type": "code",
   "execution_count": 15,
   "metadata": {},
   "outputs": [
    {
     "name": "stderr",
     "output_type": "stream",
     "text": [
      "'ls' n’est pas reconnu en tant que commande interne\n",
      "ou externe, un programme executable ou un fichier de commandes.\n"
     ]
    }
   ],
   "source": [
    "from data_io import read_as_df\n",
    "#data_dir = '/home/tp-home003/jgassie/projects/velo/starting_kit/public_data'   # Change this to the directory where you put the input data\n",
    "#chez moi( à supprimer)\n",
    "data_dir= '/Users/Moi/Desktop/velo-master/starting_kit/sample_data'\n",
    "\n",
    "#data_dir = './all_data'          # The sample_data directory should contain only a very small subset of the data\n",
    "data_name = 'xporters'\n",
    "!ls $data_dir*"
   ]
  },
  {
   "cell_type": "code",
   "execution_count": 16,
   "metadata": {},
   "outputs": [
    {
     "name": "stdout",
     "output_type": "stream",
     "text": [
      "Info file found : C:\\Users\\Moi\\Desktop\\velo-master\\starting_kit\\sample_data\\xporters_public.info\n"
     ]
    }
   ],
   "source": [
    "D = DataManager(data_name, data_dir, replace_missing=True)\n",
    "X_train_pre, X_test_pre, y_train_pre, y_test_pre = train_test_split(D.data['X_train'], D.data['Y_train'], test_size=0.33, random_state=42)\n"
   ]
  },
  {
   "cell_type": "code",
   "execution_count": 18,
   "metadata": {},
   "outputs": [
    {
     "name": "stderr",
     "output_type": "stream",
     "text": [
      "C:\\Users\\Moi\\Anaconda3\\lib\\site-packages\\sklearn\\ensemble\\iforest.py:415: DeprecationWarning: threshold_ attribute is deprecated in 0.20 and will be removed in 0.22.\n",
      "  \" be removed in 0.22.\", DeprecationWarning)\n"
     ]
    },
    {
     "name": "stdout",
     "output_type": "stream",
     "text": [
      "Pourcentage d'outlier: 13.043%:\n"
     ]
    }
   ],
   "source": [
    "def supprOutlier(X,y,retIndex=False):\n",
    "    clf = IsolationForest(random_state=0).fit(X_train_pre)\n",
    "    res = clf.predict(X_train_pre)\n",
    "    \n",
    "    indexOutlier = []\n",
    "    for i in range (0,len(res)):\n",
    "        if res[i]==-1:\n",
    "            indexOutlier.append(i)\n",
    "    \n",
    "    pourcentOutlier = len(indexOutlier) / len(res) * 100\n",
    "    print(\"Pourcentage d'outlier: {0:.3f}%:\".format(pourcentOutlier))\n",
    "    \n",
    "    if retIndex:\n",
    "        return np.delete(X,indexOutlier,axis=0),np.delete(y,indexOutlier,axis=0),indexOutelier\n",
    "    \n",
    "    #delete: Supprime les LIGNES d'indices dans indexOutlier\n",
    "    return np.delete(X,indexOutlier,axis=0),np.delete(y,indexOutlier,axis=0)\n",
    "\n",
    "pca = PCA(n_components=20)\n",
    "X = X_train_pre\n",
    "X,target = supprOutlier(X_train_pre,y_train_pre,False) \n",
    "pca.fit(X)\n",
    "var_explained = pca.explained_variance_ratio_\n"
   ]
  },
  {
   "cell_type": "code",
   "execution_count": 21,
   "metadata": {},
   "outputs": [
    {
     "ename": "IndentationError",
     "evalue": "unindent does not match any outer indentation level (<tokenize>, line 14)",
     "output_type": "error",
     "traceback": [
      "\u001b[1;36m  File \u001b[1;32m\"<tokenize>\"\u001b[1;36m, line \u001b[1;32m14\u001b[0m\n\u001b[1;33m    def fit(self, X, y):\u001b[0m\n\u001b[1;37m    ^\u001b[0m\n\u001b[1;31mIndentationError\u001b[0m\u001b[1;31m:\u001b[0m unindent does not match any outer indentation level\n"
     ]
    }
   ],
   "source": [
    "class model (BaseEstimator):\n",
    "    def __init__(self):\n",
    "        '''\n",
    "        This constructor is supposed to initialize data members.\n",
    "        Use triple quotes for function documentation. \n",
    "        '''\n",
    "        self.num_train_samples= 38563\n",
    "        self.num_feat=59\n",
    "        self.num_labels=1\n",
    "        self.is_trained=False\n",
    "        #changed by Howie below\n",
    "        self.preprocess = X # Ex. PCA()  \n",
    "        self.mod = RandomForestRegressor(max_depth=20, random_state=0,  n_estimators=100) # Ex. DecisionTreeRegressor()\n",
    "   def fit(self, X, y):\n",
    "        '''\n",
    "        This function should train the model parameters.\n",
    "        Here we do nothing in this example...\n",
    "        Args:\n",
    "            X: Training data matrix of dim num_train_samples * num_feat.\n",
    "            y: Training label matrix of dim num_train_samples * num_labels.\n",
    "        Both inputs are numpy arrays.\n",
    "        For classification, labels could be either numbers 0, 1, ... c-1 for c classe\n",
    "        or one-hot encoded vector of zeros, with a 1 at the kth position for class k.\n",
    "        The AutoML format support on-hot encoding, which also works for multi-labels problems.\n",
    "        Use data_converter.convert_to_num() to convert to the category number format.\n",
    "        For regression, labels are continuous values.\n",
    "        '''\n",
    "        if X.ndim>1: self.num_feat = X.shape[1]\n",
    "        if y.ndim>1: self.num_labels = y.shape[1]\n",
    "\n",
    "        X_preprocess = self.preprocess.fit_transform(X)\n",
    "        self.mod.fit(X_preprocess, y)\n",
    "        self.is_trained = True\n",
    "\n",
    "    def predict(self, X):\n",
    "        '''\n",
    "        This function should provide predictions of labels on (test) data.\n",
    "        Here we just return zeros...\n",
    "        Make sure that the predicted values are in the correct format for the scoring\n",
    "        metric. For example, binary classification problems often expect predictions\n",
    "        in the form of a discriminant value (if the area under the ROC curve it the metric)\n",
    "        rather that predictions of the class labels themselves. For multi-class or multi-labels\n",
    "        problems, class probabilities are often expected if the metric is cross-entropy.\n",
    "        Scikit-learn also has a function predict-proba, we do not require it.\n",
    "        The function predict eventually can return probabilities.\n",
    "        '''\n",
    "        num_test_samples = X.shape[0]\n",
    "        if X.ndim>1: num_feat = X.shape[1]\n",
    "        y = np.zeros([num_test_samples, self.num_labels])\n",
    "\n",
    "\n",
    "        X_preprocess = self.preprocess.transform(X)\n",
    "        y = self.mod.predict(X_preprocess)\n",
    "        return y\n",
    "\n",
    "    def save(self, path=\"./\"):\n",
    "        pass\n",
    "\n",
    "    def load(self, path=\"./\"):\n",
    "        pass\n",
    "\n",
    "\n",
    "def test():\n",
    "    # Load votre model\n",
    "    mod = model()\n",
    "    # 1 - créer un data X_random et y_random fictives: utiliser https://docs.scipy.org/doc/numpy-1.14.0/reference/generated/numpy.random.rand.html\n",
    "    # 2 - Tester l'entrainement avec mod.fit(X_random, y_random)\n",
    "    # 3 - Test la prediction: mod.predict(X_random)\n",
    "    # Pour tester cette fonction *test*, il suffit de lancer la commande ```python sample_code_submission/model.py```\n",
    "\n",
    "if __name__ == \"__main__\":\n",
    "    test()  "
   ]
  },
  {
   "cell_type": "code",
   "execution_count": null,
   "metadata": {},
   "outputs": [],
   "source": []
  },
  {
   "cell_type": "code",
   "execution_count": null,
   "metadata": {},
   "outputs": [],
   "source": []
  },
  {
   "cell_type": "code",
   "execution_count": null,
   "metadata": {},
   "outputs": [],
   "source": []
  },
  {
   "cell_type": "code",
   "execution_count": null,
   "metadata": {},
   "outputs": [],
   "source": []
  },
  {
   "cell_type": "code",
   "execution_count": null,
   "metadata": {},
   "outputs": [],
   "source": []
  },
  {
   "cell_type": "code",
   "execution_count": null,
   "metadata": {},
   "outputs": [],
   "source": []
  },
  {
   "cell_type": "code",
   "execution_count": null,
   "metadata": {},
   "outputs": [],
   "source": []
  }
 ],
 "metadata": {
  "kernelspec": {
   "display_name": "Python 3",
   "language": "python",
   "name": "python3"
  },
  "language_info": {
   "codemirror_mode": {
    "name": "ipython",
    "version": 3
   },
   "file_extension": ".py",
   "mimetype": "text/x-python",
   "name": "python",
   "nbconvert_exporter": "python",
   "pygments_lexer": "ipython3",
   "version": "3.7.4"
  }
 },
 "nbformat": 4,
 "nbformat_minor": 2
}
